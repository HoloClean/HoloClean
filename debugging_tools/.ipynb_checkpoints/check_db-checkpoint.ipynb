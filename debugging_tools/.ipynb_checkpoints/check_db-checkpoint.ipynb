{
 "cells": [
  {
   "cell_type": "code",
   "execution_count": 3,
   "metadata": {},
   "outputs": [],
   "source": [
    "import psycopg2\n",
    "import pandas as pd\n",
    "from string import Template"
   ]
  },
  {
   "cell_type": "code",
   "execution_count": 19,
   "metadata": {},
   "outputs": [],
   "source": [
    "dataname = \"small_adult_1\""
   ]
  },
  {
   "cell_type": "code",
   "execution_count": 20,
   "metadata": {},
   "outputs": [],
   "source": [
    "index = \"1\""
   ]
  },
  {
   "cell_type": "markdown",
   "metadata": {},
   "source": [
    "### Connect to db"
   ]
  },
  {
   "cell_type": "code",
   "execution_count": 21,
   "metadata": {},
   "outputs": [],
   "source": [
    "conn = psycopg2.connect(host=\"localhost\",\n",
    "                        database=\"{}_{}\".format(dataname,index), \n",
    "                        user=\"holocleanuser\", \n",
    "                        password=\"abcd1234\")"
   ]
  },
  {
   "cell_type": "code",
   "execution_count": 22,
   "metadata": {},
   "outputs": [],
   "source": [
    "def query_df(q, value = []):\n",
    "    if len(value) != 0:\n",
    "        df = pd.read_sql_query(q, conn, params=value)\n",
    "    else:\n",
    "        df = pd.read_sql_query(q, conn)\n",
    "    return df"
   ]
  },
  {
   "cell_type": "code",
   "execution_count": 23,
   "metadata": {},
   "outputs": [],
   "source": [
    "def table_lists():\n",
    "    df = query_df(\"\"\"SELECT table_name FROM information_schema.tables\n",
    "       WHERE table_schema = 'public'\"\"\")\n",
    "    return df"
   ]
  },
  {
   "cell_type": "code",
   "execution_count": 24,
   "metadata": {},
   "outputs": [
    {
     "data": {
      "text/html": [
       "<div>\n",
       "<style scoped>\n",
       "    .dataframe tbody tr th:only-of-type {\n",
       "        vertical-align: middle;\n",
       "    }\n",
       "\n",
       "    .dataframe tbody tr th {\n",
       "        vertical-align: top;\n",
       "    }\n",
       "\n",
       "    .dataframe thead th {\n",
       "        text-align: right;\n",
       "    }\n",
       "</style>\n",
       "<table border=\"1\" class=\"dataframe\">\n",
       "  <thead>\n",
       "    <tr style=\"text-align: right;\">\n",
       "      <th></th>\n",
       "      <th>table_name</th>\n",
       "    </tr>\n",
       "  </thead>\n",
       "  <tbody>\n",
       "    <tr>\n",
       "      <th>0</th>\n",
       "      <td>small_adult_1</td>\n",
       "    </tr>\n",
       "    <tr>\n",
       "      <th>1</th>\n",
       "      <td>dk_cells</td>\n",
       "    </tr>\n",
       "    <tr>\n",
       "      <th>2</th>\n",
       "      <td>cell_domain</td>\n",
       "    </tr>\n",
       "    <tr>\n",
       "      <th>3</th>\n",
       "      <td>pos_values</td>\n",
       "    </tr>\n",
       "    <tr>\n",
       "      <th>4</th>\n",
       "      <td>cell_distr</td>\n",
       "    </tr>\n",
       "    <tr>\n",
       "      <th>5</th>\n",
       "      <td>inf_values_idx</td>\n",
       "    </tr>\n",
       "    <tr>\n",
       "      <th>6</th>\n",
       "      <td>inf_values_dom</td>\n",
       "    </tr>\n",
       "    <tr>\n",
       "      <th>7</th>\n",
       "      <td>small_adult_1_repaired</td>\n",
       "    </tr>\n",
       "    <tr>\n",
       "      <th>8</th>\n",
       "      <td>small_adult_1_clean</td>\n",
       "    </tr>\n",
       "  </tbody>\n",
       "</table>\n",
       "</div>"
      ],
      "text/plain": [
       "               table_name\n",
       "0           small_adult_1\n",
       "1                dk_cells\n",
       "2             cell_domain\n",
       "3              pos_values\n",
       "4              cell_distr\n",
       "5          inf_values_idx\n",
       "6          inf_values_dom\n",
       "7  small_adult_1_repaired\n",
       "8     small_adult_1_clean"
      ]
     },
     "execution_count": 24,
     "metadata": {},
     "output_type": "execute_result"
    }
   ],
   "source": [
    "table_lists()"
   ]
  },
  {
   "cell_type": "code",
   "execution_count": 25,
   "metadata": {},
   "outputs": [
    {
     "data": {
      "text/plain": [
       "array(['age', 'workclass', 'education', 'maritalstatus', 'occupation',\n",
       "       'relationship', 'race', 'sex', 'hoursperweek', 'country', 'income'],\n",
       "      dtype=object)"
      ]
     },
     "execution_count": 25,
     "metadata": {},
     "output_type": "execute_result"
    }
   ],
   "source": [
    "# get all attributes \n",
    "data = query_df(\"select * from {}\".format(dataname))\n",
    "attributes = data.columns.values[1:]\n",
    "attributes"
   ]
  },
  {
   "cell_type": "markdown",
   "metadata": {},
   "source": [
    "### Total Errors"
   ]
  },
  {
   "cell_type": "code",
   "execution_count": 26,
   "metadata": {},
   "outputs": [],
   "source": [
    "errors_template = Template('SELECT t1._tid_, t2._attribute_, t1.$attr as init, t2._value_ as gt '\\\n",
    "                            'FROM $init_table as t1, $grdt_table as t2 '\\\n",
    "                            'WHERE t1._tid_ = t2._tid_ '\\\n",
    "                              'AND t2._attribute_ = \\'$attr\\' '\\\n",
    "                              'AND t1.$attr != t2._value_')"
   ]
  },
  {
   "cell_type": "code",
   "execution_count": 27,
   "metadata": {},
   "outputs": [],
   "source": [
    "def get_total_errors():\n",
    "    all_error = []\n",
    "    for attr in attributes:\n",
    "        query = errors_template.substitute(init_table=dataname, grdt_table='%s_clean'%dataname,\n",
    "                        attr=attr)\n",
    "        df = query_df(query)\n",
    "        all_error.append(df)\n",
    "    return all_error"
   ]
  },
  {
   "cell_type": "code",
   "execution_count": 28,
   "metadata": {},
   "outputs": [],
   "source": [
    "all_error = get_total_errors()"
   ]
  },
  {
   "cell_type": "code",
   "execution_count": 29,
   "metadata": {},
   "outputs": [],
   "source": [
    "all_error = pd.concat(all_error, ignore_index=True)"
   ]
  },
  {
   "cell_type": "code",
   "execution_count": 30,
   "metadata": {},
   "outputs": [
    {
     "data": {
      "text/html": [
       "<div>\n",
       "<style scoped>\n",
       "    .dataframe tbody tr th:only-of-type {\n",
       "        vertical-align: middle;\n",
       "    }\n",
       "\n",
       "    .dataframe tbody tr th {\n",
       "        vertical-align: top;\n",
       "    }\n",
       "\n",
       "    .dataframe thead th {\n",
       "        text-align: right;\n",
       "    }\n",
       "</style>\n",
       "<table border=\"1\" class=\"dataframe\">\n",
       "  <thead>\n",
       "    <tr style=\"text-align: right;\">\n",
       "      <th></th>\n",
       "      <th>_tid_</th>\n",
       "      <th>_attribute_</th>\n",
       "      <th>init</th>\n",
       "      <th>gt</th>\n",
       "    </tr>\n",
       "  </thead>\n",
       "  <tbody>\n",
       "    <tr>\n",
       "      <th>0</th>\n",
       "      <td>1</td>\n",
       "      <td>workclass</td>\n",
       "      <td>?</td>\n",
       "      <td>_nan_</td>\n",
       "    </tr>\n",
       "    <tr>\n",
       "      <th>1</th>\n",
       "      <td>4</td>\n",
       "      <td>workclass</td>\n",
       "      <td>?</td>\n",
       "      <td>_nan_</td>\n",
       "    </tr>\n",
       "    <tr>\n",
       "      <th>2</th>\n",
       "      <td>11</td>\n",
       "      <td>workclass</td>\n",
       "      <td>?</td>\n",
       "      <td>_nan_</td>\n",
       "    </tr>\n",
       "    <tr>\n",
       "      <th>3</th>\n",
       "      <td>12</td>\n",
       "      <td>workclass</td>\n",
       "      <td>?</td>\n",
       "      <td>_nan_</td>\n",
       "    </tr>\n",
       "    <tr>\n",
       "      <th>4</th>\n",
       "      <td>17</td>\n",
       "      <td>workclass</td>\n",
       "      <td>?</td>\n",
       "      <td>_nan_</td>\n",
       "    </tr>\n",
       "  </tbody>\n",
       "</table>\n",
       "</div>"
      ],
      "text/plain": [
       "  _tid_ _attribute_ init     gt\n",
       "0     1   workclass    ?  _nan_\n",
       "1     4   workclass    ?  _nan_\n",
       "2    11   workclass    ?  _nan_\n",
       "3    12   workclass    ?  _nan_\n",
       "4    17   workclass    ?  _nan_"
      ]
     },
     "execution_count": 30,
     "metadata": {},
     "output_type": "execute_result"
    }
   ],
   "source": [
    "all_error"
   ]
  },
  {
   "cell_type": "code",
   "execution_count": 16,
   "metadata": {},
   "outputs": [
    {
     "data": {
      "text/plain": [
       "1407"
      ]
     },
     "execution_count": 16,
     "metadata": {},
     "output_type": "execute_result"
    }
   ],
   "source": [
    "init_count = all_error.shape[0]\n",
    "init_count"
   ]
  },
  {
   "cell_type": "markdown",
   "metadata": {},
   "source": [
    "### Total Repair"
   ]
  },
  {
   "cell_type": "code",
   "execution_count": 35,
   "metadata": {},
   "outputs": [],
   "source": [
    "query = \"SELECT t1._tid_, t1.attribute, t1.init_value as init, t2.rv_value as repair \" \\\n",
    "                 \"FROM %s as t1, %s as t2 \" \\\n",
    "                 \"WHERE t1._tid_ = t2._tid_ \" \\\n",
    "                   \"AND t1.attribute = t2.attribute \" \\\n",
    "                   \"AND t1.init_value != t2.rv_value\"\\\n",
    "                %('cell_domain', 'inf_values_dom')\n",
    "all_repair = query_df(query)"
   ]
  },
  {
   "cell_type": "code",
   "execution_count": 36,
   "metadata": {},
   "outputs": [
    {
     "data": {
      "text/html": [
       "<div>\n",
       "<style scoped>\n",
       "    .dataframe tbody tr th:only-of-type {\n",
       "        vertical-align: middle;\n",
       "    }\n",
       "\n",
       "    .dataframe tbody tr th {\n",
       "        vertical-align: top;\n",
       "    }\n",
       "\n",
       "    .dataframe thead th {\n",
       "        text-align: right;\n",
       "    }\n",
       "</style>\n",
       "<table border=\"1\" class=\"dataframe\">\n",
       "  <thead>\n",
       "    <tr style=\"text-align: right;\">\n",
       "      <th></th>\n",
       "      <th>_tid_</th>\n",
       "      <th>attribute</th>\n",
       "      <th>init</th>\n",
       "      <th>repair</th>\n",
       "    </tr>\n",
       "  </thead>\n",
       "  <tbody>\n",
       "    <tr>\n",
       "      <th>0</th>\n",
       "      <td>5</td>\n",
       "      <td>num_persons_worked_for_employer</td>\n",
       "      <td>x</td>\n",
       "      <td>0</td>\n",
       "    </tr>\n",
       "    <tr>\n",
       "      <th>1</th>\n",
       "      <td>28</td>\n",
       "      <td>weeks_worked_in_year</td>\n",
       "      <td>48</td>\n",
       "      <td>52</td>\n",
       "    </tr>\n",
       "    <tr>\n",
       "      <th>2</th>\n",
       "      <td>48</td>\n",
       "      <td>weeks_worked_in_year</td>\n",
       "      <td>40</td>\n",
       "      <td>52</td>\n",
       "    </tr>\n",
       "    <tr>\n",
       "      <th>3</th>\n",
       "      <td>55</td>\n",
       "      <td>detailed_household_and_family_stat</td>\n",
       "      <td>nonfamily householder</td>\n",
       "      <td>householder</td>\n",
       "    </tr>\n",
       "    <tr>\n",
       "      <th>4</th>\n",
       "      <td>65</td>\n",
       "      <td>num_persons_worked_for_employer</td>\n",
       "      <td>5</td>\n",
       "      <td>4</td>\n",
       "    </tr>\n",
       "  </tbody>\n",
       "</table>\n",
       "</div>"
      ],
      "text/plain": [
       "   _tid_                           attribute                   init  \\\n",
       "0      5     num_persons_worked_for_employer                      x   \n",
       "1     28                weeks_worked_in_year                     48   \n",
       "2     48                weeks_worked_in_year                     40   \n",
       "3     55  detailed_household_and_family_stat  nonfamily householder   \n",
       "4     65     num_persons_worked_for_employer                      5   \n",
       "\n",
       "        repair  \n",
       "0            0  \n",
       "1           52  \n",
       "2           52  \n",
       "3  householder  \n",
       "4            4  "
      ]
     },
     "execution_count": 36,
     "metadata": {},
     "output_type": "execute_result"
    }
   ],
   "source": [
    "all_repair.head()"
   ]
  },
  {
   "cell_type": "code",
   "execution_count": 37,
   "metadata": {},
   "outputs": [
    {
     "data": {
      "text/plain": [
       "29"
      ]
     },
     "execution_count": 37,
     "metadata": {},
     "output_type": "execute_result"
    }
   ],
   "source": [
    "total_repair_init_count = all_repair.shape[0]\n",
    "total_repair_init_count"
   ]
  },
  {
   "cell_type": "code",
   "execution_count": 39,
   "metadata": {},
   "outputs": [],
   "source": [
    "query = \"SELECT t1._tid_, t1.attribute, t1.init_value as init, t2.rv_value as repair \" \\\n",
    "         \"FROM %s as t1, %s as t2, %s as t3 \" \\\n",
    "         \"WHERE t1._tid_ = t2._tid_ \" \\\n",
    "           \"AND t1.attribute = t2.attribute \" \\\n",
    "           \"AND t1.init_value != t2.rv_value \" \\\n",
    "           \"AND t1._tid_ = t3._tid_ \" \\\n",
    "           \"AND t1.attribute = t3._attribute_\"\\\n",
    "        %('cell_domain', 'inf_values_dom', '%s_clean'%dataname)\n",
    "repair_gt = query_df(query)"
   ]
  },
  {
   "cell_type": "code",
   "execution_count": 40,
   "metadata": {},
   "outputs": [
    {
     "data": {
      "text/html": [
       "<div>\n",
       "<style scoped>\n",
       "    .dataframe tbody tr th:only-of-type {\n",
       "        vertical-align: middle;\n",
       "    }\n",
       "\n",
       "    .dataframe tbody tr th {\n",
       "        vertical-align: top;\n",
       "    }\n",
       "\n",
       "    .dataframe thead th {\n",
       "        text-align: right;\n",
       "    }\n",
       "</style>\n",
       "<table border=\"1\" class=\"dataframe\">\n",
       "  <thead>\n",
       "    <tr style=\"text-align: right;\">\n",
       "      <th></th>\n",
       "      <th>_tid_</th>\n",
       "      <th>attribute</th>\n",
       "      <th>init</th>\n",
       "      <th>repair</th>\n",
       "    </tr>\n",
       "  </thead>\n",
       "  <tbody>\n",
       "    <tr>\n",
       "      <th>0</th>\n",
       "      <td>5</td>\n",
       "      <td>num_persons_worked_for_employer</td>\n",
       "      <td>x</td>\n",
       "      <td>0</td>\n",
       "    </tr>\n",
       "    <tr>\n",
       "      <th>1</th>\n",
       "      <td>28</td>\n",
       "      <td>weeks_worked_in_year</td>\n",
       "      <td>48</td>\n",
       "      <td>52</td>\n",
       "    </tr>\n",
       "    <tr>\n",
       "      <th>2</th>\n",
       "      <td>48</td>\n",
       "      <td>weeks_worked_in_year</td>\n",
       "      <td>40</td>\n",
       "      <td>52</td>\n",
       "    </tr>\n",
       "    <tr>\n",
       "      <th>3</th>\n",
       "      <td>55</td>\n",
       "      <td>detailed_household_and_family_stat</td>\n",
       "      <td>nonfamily householder</td>\n",
       "      <td>householder</td>\n",
       "    </tr>\n",
       "    <tr>\n",
       "      <th>4</th>\n",
       "      <td>65</td>\n",
       "      <td>num_persons_worked_for_employer</td>\n",
       "      <td>5</td>\n",
       "      <td>4</td>\n",
       "    </tr>\n",
       "  </tbody>\n",
       "</table>\n",
       "</div>"
      ],
      "text/plain": [
       "   _tid_                           attribute                   init  \\\n",
       "0      5     num_persons_worked_for_employer                      x   \n",
       "1     28                weeks_worked_in_year                     48   \n",
       "2     48                weeks_worked_in_year                     40   \n",
       "3     55  detailed_household_and_family_stat  nonfamily householder   \n",
       "4     65     num_persons_worked_for_employer                      5   \n",
       "\n",
       "        repair  \n",
       "0            0  \n",
       "1           52  \n",
       "2           52  \n",
       "3  householder  \n",
       "4            4  "
      ]
     },
     "execution_count": 40,
     "metadata": {},
     "output_type": "execute_result"
    }
   ],
   "source": [
    "repair_gt.head()"
   ]
  },
  {
   "cell_type": "code",
   "execution_count": 41,
   "metadata": {},
   "outputs": [
    {
     "data": {
      "text/plain": [
       "29"
      ]
     },
     "execution_count": 41,
     "metadata": {},
     "output_type": "execute_result"
    }
   ],
   "source": [
    "repair_gt_init_count = repair_gt.shape[0]\n",
    "repair_gt_init_count"
   ]
  },
  {
   "cell_type": "markdown",
   "metadata": {},
   "source": [
    "### Correct Repair"
   ]
  },
  {
   "cell_type": "code",
   "execution_count": 42,
   "metadata": {},
   "outputs": [],
   "source": [
    "repairs_template = Template('SELECT errors._tid_, errors._attribute_, '\\\n",
    "                            ' errors.init, errors._value_ as gt, repairs.rv_value as repair FROM'\\\n",
    "                            '(SELECT t2._tid_, t2._attribute_, t2._value_, t1.$attr as init '\\\n",
    "                             'FROM $init_table as t1, $grdt_table as t2 '\\\n",
    "                             'WHERE t1._tid_ = t2._tid_ '\\\n",
    "                               'AND t2._attribute_ = \\'$attr\\' '\\\n",
    "                               'AND t1.$attr != t2._value_ ) as errors, $inf_dom as repairs '\\\n",
    "                              'WHERE errors._tid_ = repairs._tid_ '\\\n",
    "                                'AND errors._attribute_ = repairs.attribute ')"
   ]
  },
  {
   "cell_type": "code",
   "execution_count": 43,
   "metadata": {},
   "outputs": [],
   "source": [
    "def get_total_repair():\n",
    "    all_rp = []\n",
    "    for attr in attributes:\n",
    "        query = repairs_template.substitute(init_table=dataname, grdt_table='%s_clean'%dataname, \n",
    "                                            inf_dom = 'inf_values_dom', attr=attr)\n",
    "        df = query_df(query)\n",
    "        all_rp.append(df)\n",
    "    return all_rp"
   ]
  },
  {
   "cell_type": "code",
   "execution_count": 44,
   "metadata": {},
   "outputs": [],
   "source": [
    "all_repair_gt = get_total_repair()"
   ]
  },
  {
   "cell_type": "code",
   "execution_count": 45,
   "metadata": {},
   "outputs": [],
   "source": [
    "all_repair_gt = pd.concat(all_repair_gt, ignore_index=True)"
   ]
  },
  {
   "cell_type": "code",
   "execution_count": 54,
   "metadata": {},
   "outputs": [
    {
     "data": {
      "text/html": [
       "<div>\n",
       "<style scoped>\n",
       "    .dataframe tbody tr th:only-of-type {\n",
       "        vertical-align: middle;\n",
       "    }\n",
       "\n",
       "    .dataframe tbody tr th {\n",
       "        vertical-align: top;\n",
       "    }\n",
       "\n",
       "    .dataframe thead th {\n",
       "        text-align: right;\n",
       "    }\n",
       "</style>\n",
       "<table border=\"1\" class=\"dataframe\">\n",
       "  <thead>\n",
       "    <tr style=\"text-align: right;\">\n",
       "      <th></th>\n",
       "      <th>_tid_</th>\n",
       "      <th>_attribute_</th>\n",
       "      <th>init</th>\n",
       "      <th>gt</th>\n",
       "      <th>repair</th>\n",
       "    </tr>\n",
       "  </thead>\n",
       "  <tbody>\n",
       "    <tr>\n",
       "      <th>0</th>\n",
       "      <td>60</td>\n",
       "      <td>detailed_industry_recode</td>\n",
       "      <td>x</td>\n",
       "      <td>4</td>\n",
       "      <td>x</td>\n",
       "    </tr>\n",
       "    <tr>\n",
       "      <th>1</th>\n",
       "      <td>213</td>\n",
       "      <td>detailed_industry_recode</td>\n",
       "      <td>x3</td>\n",
       "      <td>43</td>\n",
       "      <td>x3</td>\n",
       "    </tr>\n",
       "    <tr>\n",
       "      <th>2</th>\n",
       "      <td>528</td>\n",
       "      <td>detailed_industry_recode</td>\n",
       "      <td>x</td>\n",
       "      <td>0</td>\n",
       "      <td>0</td>\n",
       "    </tr>\n",
       "    <tr>\n",
       "      <th>3</th>\n",
       "      <td>922</td>\n",
       "      <td>detailed_occupation_recode</td>\n",
       "      <td>x</td>\n",
       "      <td>0</td>\n",
       "      <td>0</td>\n",
       "    </tr>\n",
       "    <tr>\n",
       "      <th>4</th>\n",
       "      <td>632</td>\n",
       "      <td>detailed_household_and_family_stat</td>\n",
       "      <td>chxld &lt;18 never marr not in subfamily</td>\n",
       "      <td>child &lt;18 never marr not in subfamily</td>\n",
       "      <td>chxld &lt;18 never marr not in subfamily</td>\n",
       "    </tr>\n",
       "    <tr>\n",
       "      <th>5</th>\n",
       "      <td>705</td>\n",
       "      <td>detailed_household_and_family_stat</td>\n",
       "      <td>child &lt;18 never marr not in xubfamily</td>\n",
       "      <td>child &lt;18 never marr not in subfamily</td>\n",
       "      <td>child &lt;18 never marr not in xubfamily</td>\n",
       "    </tr>\n",
       "    <tr>\n",
       "      <th>6</th>\n",
       "      <td>299</td>\n",
       "      <td>migration_code_move_within_reg</td>\n",
       "      <td>different staxe in west</td>\n",
       "      <td>different state in west</td>\n",
       "      <td>different staxe in west</td>\n",
       "    </tr>\n",
       "    <tr>\n",
       "      <th>7</th>\n",
       "      <td>217</td>\n",
       "      <td>migration_prev_res_in_sunbelt</td>\n",
       "      <td>nxt in universe</td>\n",
       "      <td>not in universe</td>\n",
       "      <td>not in universe</td>\n",
       "    </tr>\n",
       "    <tr>\n",
       "      <th>8</th>\n",
       "      <td>5</td>\n",
       "      <td>num_persons_worked_for_employer</td>\n",
       "      <td>x</td>\n",
       "      <td>0</td>\n",
       "      <td>0</td>\n",
       "    </tr>\n",
       "    <tr>\n",
       "      <th>9</th>\n",
       "      <td>144</td>\n",
       "      <td>num_persons_worked_for_employer</td>\n",
       "      <td>x</td>\n",
       "      <td>0</td>\n",
       "      <td>0</td>\n",
       "    </tr>\n",
       "    <tr>\n",
       "      <th>10</th>\n",
       "      <td>244</td>\n",
       "      <td>num_persons_worked_for_employer</td>\n",
       "      <td>x</td>\n",
       "      <td>0</td>\n",
       "      <td>0</td>\n",
       "    </tr>\n",
       "    <tr>\n",
       "      <th>11</th>\n",
       "      <td>527</td>\n",
       "      <td>num_persons_worked_for_employer</td>\n",
       "      <td>x</td>\n",
       "      <td>4</td>\n",
       "      <td>3</td>\n",
       "    </tr>\n",
       "    <tr>\n",
       "      <th>12</th>\n",
       "      <td>660</td>\n",
       "      <td>family_members_under_18</td>\n",
       "      <td>mother onxy present</td>\n",
       "      <td>mother only present</td>\n",
       "      <td>mother onxy present</td>\n",
       "    </tr>\n",
       "    <tr>\n",
       "      <th>13</th>\n",
       "      <td>323</td>\n",
       "      <td>citizenship</td>\n",
       "      <td>native- born in the unxted states</td>\n",
       "      <td>native- born in the united states</td>\n",
       "      <td>native- born in the united states</td>\n",
       "    </tr>\n",
       "  </tbody>\n",
       "</table>\n",
       "</div>"
      ],
      "text/plain": [
       "   _tid_                         _attribute_  \\\n",
       "0     60            detailed_industry_recode   \n",
       "1    213            detailed_industry_recode   \n",
       "2    528            detailed_industry_recode   \n",
       "3    922          detailed_occupation_recode   \n",
       "4    632  detailed_household_and_family_stat   \n",
       "5    705  detailed_household_and_family_stat   \n",
       "6    299      migration_code_move_within_reg   \n",
       "7    217       migration_prev_res_in_sunbelt   \n",
       "8      5     num_persons_worked_for_employer   \n",
       "9    144     num_persons_worked_for_employer   \n",
       "10   244     num_persons_worked_for_employer   \n",
       "11   527     num_persons_worked_for_employer   \n",
       "12   660             family_members_under_18   \n",
       "13   323                         citizenship   \n",
       "\n",
       "                                     init  \\\n",
       "0                                       x   \n",
       "1                                      x3   \n",
       "2                                       x   \n",
       "3                                       x   \n",
       "4   chxld <18 never marr not in subfamily   \n",
       "5   child <18 never marr not in xubfamily   \n",
       "6                 different staxe in west   \n",
       "7                         nxt in universe   \n",
       "8                                       x   \n",
       "9                                       x   \n",
       "10                                      x   \n",
       "11                                      x   \n",
       "12                    mother onxy present   \n",
       "13      native- born in the unxted states   \n",
       "\n",
       "                                       gt  \\\n",
       "0                                       4   \n",
       "1                                      43   \n",
       "2                                       0   \n",
       "3                                       0   \n",
       "4   child <18 never marr not in subfamily   \n",
       "5   child <18 never marr not in subfamily   \n",
       "6                 different state in west   \n",
       "7                         not in universe   \n",
       "8                                       0   \n",
       "9                                       0   \n",
       "10                                      0   \n",
       "11                                      4   \n",
       "12                    mother only present   \n",
       "13      native- born in the united states   \n",
       "\n",
       "                                   repair  \n",
       "0                                       x  \n",
       "1                                      x3  \n",
       "2                                       0  \n",
       "3                                       0  \n",
       "4   chxld <18 never marr not in subfamily  \n",
       "5   child <18 never marr not in xubfamily  \n",
       "6                 different staxe in west  \n",
       "7                         not in universe  \n",
       "8                                       0  \n",
       "9                                       0  \n",
       "10                                      0  \n",
       "11                                      3  \n",
       "12                    mother onxy present  \n",
       "13      native- born in the united states  "
      ]
     },
     "execution_count": 54,
     "metadata": {},
     "output_type": "execute_result"
    }
   ],
   "source": [
    "all_repair_gt.head(30)"
   ]
  },
  {
   "cell_type": "code",
   "execution_count": 47,
   "metadata": {},
   "outputs": [
    {
     "data": {
      "text/plain": [
       "14"
      ]
     },
     "execution_count": 47,
     "metadata": {},
     "output_type": "execute_result"
    }
   ],
   "source": [
    "all_repair_gt.shape[0]"
   ]
  },
  {
   "cell_type": "markdown",
   "metadata": {},
   "source": [
    "### Detected Errors"
   ]
  },
  {
   "cell_type": "code",
   "execution_count": 48,
   "metadata": {},
   "outputs": [],
   "source": [
    "query = \"SELECT t1._tid_, t1.init_value as init, t2._value_ as gt \" \\\n",
    "        \"FROM %s as t1, %s as t2, %s as t3 \" \\\n",
    "        \"WHERE t1._tid_ = t2._tid_ AND t1._cid_ = t3._cid_ \" \\\n",
    "        \"AND t1.attribute = t2._attribute_ \" \\\n",
    "        \"AND t1.init_value != t2._value_\" \\\n",
    "        % ('cell_domain', '%s_clean'%dataname, 'dk_cells')"
   ]
  },
  {
   "cell_type": "code",
   "execution_count": 49,
   "metadata": {},
   "outputs": [],
   "source": [
    "init_error = query_df(query)"
   ]
  },
  {
   "cell_type": "code",
   "execution_count": 50,
   "metadata": {},
   "outputs": [
    {
     "data": {
      "text/plain": [
       "14"
      ]
     },
     "execution_count": 50,
     "metadata": {},
     "output_type": "execute_result"
    }
   ],
   "source": [
    "init_error.shape[0]"
   ]
  },
  {
   "cell_type": "code",
   "execution_count": 55,
   "metadata": {},
   "outputs": [
    {
     "data": {
      "text/plain": [
       "33"
      ]
     },
     "execution_count": 55,
     "metadata": {},
     "output_type": "execute_result"
    }
   ],
   "source": [
    "# total errors\n",
    "init_count"
   ]
  },
  {
   "cell_type": "code",
   "execution_count": null,
   "metadata": {},
   "outputs": [],
   "source": []
  }
 ],
 "metadata": {
  "kernelspec": {
   "display_name": "Python 2",
   "language": "python",
   "name": "python2"
  },
  "language_info": {
   "codemirror_mode": {
    "name": "ipython",
    "version": 2
   },
   "file_extension": ".py",
   "mimetype": "text/x-python",
   "name": "python",
   "nbconvert_exporter": "python",
   "pygments_lexer": "ipython2",
   "version": "2.7.15"
  }
 },
 "nbformat": 4,
 "nbformat_minor": 2
}
