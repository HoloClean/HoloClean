{
 "cells": [
  {
   "cell_type": "code",
   "execution_count": 1,
   "metadata": {},
   "outputs": [],
   "source": [
    "import psycopg2\n",
    "import pandas as pd\n",
    "from string import Template"
   ]
  },
  {
   "cell_type": "code",
   "execution_count": 2,
   "metadata": {},
   "outputs": [],
   "source": [
    "index = 7"
   ]
  },
  {
   "cell_type": "markdown",
   "metadata": {},
   "source": [
    "### Connect to db"
   ]
  },
  {
   "cell_type": "code",
   "execution_count": 3,
   "metadata": {},
   "outputs": [],
   "source": [
    "conn = psycopg2.connect(host=\"localhost\",\n",
    "                        database=\"food_{}\".format(index), \n",
    "                        user=\"holocleanuser\", \n",
    "                        password=\"abcd1234\")"
   ]
  },
  {
   "cell_type": "code",
   "execution_count": 4,
   "metadata": {},
   "outputs": [],
   "source": [
    "def query_df(q, value = []):\n",
    "    if len(value) != 0:\n",
    "        df = pd.read_sql_query(q, conn, params=value)\n",
    "    else:\n",
    "        df = pd.read_sql_query(q, conn)\n",
    "    return df"
   ]
  },
  {
   "cell_type": "code",
   "execution_count": 5,
   "metadata": {},
   "outputs": [],
   "source": [
    "def table_lists():\n",
    "    df = query_df(\"\"\"SELECT table_name FROM information_schema.tables\n",
    "       WHERE table_schema = 'public'\"\"\")\n",
    "    return df"
   ]
  },
  {
   "cell_type": "code",
   "execution_count": 6,
   "metadata": {},
   "outputs": [
    {
     "data": {
      "text/html": [
       "<div>\n",
       "<style scoped>\n",
       "    .dataframe tbody tr th:only-of-type {\n",
       "        vertical-align: middle;\n",
       "    }\n",
       "\n",
       "    .dataframe tbody tr th {\n",
       "        vertical-align: top;\n",
       "    }\n",
       "\n",
       "    .dataframe thead th {\n",
       "        text-align: right;\n",
       "    }\n",
       "</style>\n",
       "<table border=\"1\" class=\"dataframe\">\n",
       "  <thead>\n",
       "    <tr style=\"text-align: right;\">\n",
       "      <th></th>\n",
       "      <th>table_name</th>\n",
       "    </tr>\n",
       "  </thead>\n",
       "  <tbody>\n",
       "    <tr>\n",
       "      <th>0</th>\n",
       "      <td>food</td>\n",
       "    </tr>\n",
       "    <tr>\n",
       "      <th>1</th>\n",
       "      <td>dk_cells</td>\n",
       "    </tr>\n",
       "    <tr>\n",
       "      <th>2</th>\n",
       "      <td>cell_domain</td>\n",
       "    </tr>\n",
       "    <tr>\n",
       "      <th>3</th>\n",
       "      <td>pos_values</td>\n",
       "    </tr>\n",
       "    <tr>\n",
       "      <th>4</th>\n",
       "      <td>cell_distr</td>\n",
       "    </tr>\n",
       "    <tr>\n",
       "      <th>5</th>\n",
       "      <td>inf_values_idx</td>\n",
       "    </tr>\n",
       "    <tr>\n",
       "      <th>6</th>\n",
       "      <td>inf_values_dom</td>\n",
       "    </tr>\n",
       "    <tr>\n",
       "      <th>7</th>\n",
       "      <td>food_repaired</td>\n",
       "    </tr>\n",
       "    <tr>\n",
       "      <th>8</th>\n",
       "      <td>food_clean</td>\n",
       "    </tr>\n",
       "  </tbody>\n",
       "</table>\n",
       "</div>"
      ],
      "text/plain": [
       "       table_name\n",
       "0            food\n",
       "1        dk_cells\n",
       "2     cell_domain\n",
       "3      pos_values\n",
       "4      cell_distr\n",
       "5  inf_values_idx\n",
       "6  inf_values_dom\n",
       "7   food_repaired\n",
       "8      food_clean"
      ]
     },
     "execution_count": 6,
     "metadata": {},
     "output_type": "execute_result"
    }
   ],
   "source": [
    "table_lists()"
   ]
  },
  {
   "cell_type": "code",
   "execution_count": 7,
   "metadata": {},
   "outputs": [
    {
     "data": {
      "text/plain": [
       "array(['akaname', 'inspectionid', 'city', 'state', 'results', 'longitude',\n",
       "       'latitude', 'inspectiondate', 'risk', 'location', 'license',\n",
       "       'facilitytype', 'address', 'inspectiontype', 'dbaname', 'zip'],\n",
       "      dtype=object)"
      ]
     },
     "execution_count": 7,
     "metadata": {},
     "output_type": "execute_result"
    }
   ],
   "source": [
    "# get all attributes \n",
    "data = query_df(\"select * from food\")\n",
    "attributes = data.columns.values[1:]\n",
    "attributes"
   ]
  },
  {
   "cell_type": "markdown",
   "metadata": {},
   "source": [
    "### Total Errors"
   ]
  },
  {
   "cell_type": "code",
   "execution_count": 8,
   "metadata": {},
   "outputs": [],
   "source": [
    "errors_template = Template('SELECT t1._tid_, t2._attribute_, t1.$attr as init, t2._value_ as gt '\\\n",
    "                            'FROM $init_table as t1, $grdt_table as t2 '\\\n",
    "                            'WHERE t1._tid_ = t2._tid_ '\\\n",
    "                              'AND t2._attribute_ = \\'$attr\\' '\\\n",
    "                              'AND t1.$attr != t2._value_')"
   ]
  },
  {
   "cell_type": "code",
   "execution_count": 9,
   "metadata": {},
   "outputs": [],
   "source": [
    "def get_total_errors():\n",
    "    all_error = []\n",
    "    for attr in attributes:\n",
    "        query = errors_template.substitute(init_table='food', grdt_table='food_clean',\n",
    "                        attr=attr)\n",
    "        df = query_df(query)\n",
    "        all_error.append(df)\n",
    "    return all_error"
   ]
  },
  {
   "cell_type": "code",
   "execution_count": 10,
   "metadata": {},
   "outputs": [],
   "source": [
    "all_error = get_total_errors()"
   ]
  },
  {
   "cell_type": "code",
   "execution_count": 11,
   "metadata": {},
   "outputs": [],
   "source": [
    "all_error = pd.concat(all_error, ignore_index=True)"
   ]
  },
  {
   "cell_type": "code",
   "execution_count": 12,
   "metadata": {},
   "outputs": [
    {
     "data": {
      "text/html": [
       "<div>\n",
       "<style scoped>\n",
       "    .dataframe tbody tr th:only-of-type {\n",
       "        vertical-align: middle;\n",
       "    }\n",
       "\n",
       "    .dataframe tbody tr th {\n",
       "        vertical-align: top;\n",
       "    }\n",
       "\n",
       "    .dataframe thead th {\n",
       "        text-align: right;\n",
       "    }\n",
       "</style>\n",
       "<table border=\"1\" class=\"dataframe\">\n",
       "  <thead>\n",
       "    <tr style=\"text-align: right;\">\n",
       "      <th></th>\n",
       "      <th>_tid_</th>\n",
       "      <th>_attribute_</th>\n",
       "      <th>init</th>\n",
       "      <th>gt</th>\n",
       "    </tr>\n",
       "  </thead>\n",
       "  <tbody>\n",
       "    <tr>\n",
       "      <th>0</th>\n",
       "      <td>113940</td>\n",
       "      <td>city</td>\n",
       "      <td>_nan_</td>\n",
       "      <td>chicago</td>\n",
       "    </tr>\n",
       "    <tr>\n",
       "      <th>1</th>\n",
       "      <td>118355</td>\n",
       "      <td>city</td>\n",
       "      <td>_nan_</td>\n",
       "      <td>chicago</td>\n",
       "    </tr>\n",
       "    <tr>\n",
       "      <th>2</th>\n",
       "      <td>119036</td>\n",
       "      <td>city</td>\n",
       "      <td>_nan_</td>\n",
       "      <td>chicago</td>\n",
       "    </tr>\n",
       "    <tr>\n",
       "      <th>3</th>\n",
       "      <td>119660</td>\n",
       "      <td>city</td>\n",
       "      <td>_nan_</td>\n",
       "      <td>chicago</td>\n",
       "    </tr>\n",
       "    <tr>\n",
       "      <th>4</th>\n",
       "      <td>368</td>\n",
       "      <td>city</td>\n",
       "      <td>_nan_</td>\n",
       "      <td>chicago</td>\n",
       "    </tr>\n",
       "  </tbody>\n",
       "</table>\n",
       "</div>"
      ],
      "text/plain": [
       "    _tid_ _attribute_   init       gt\n",
       "0  113940        city  _nan_  chicago\n",
       "1  118355        city  _nan_  chicago\n",
       "2  119036        city  _nan_  chicago\n",
       "3  119660        city  _nan_  chicago\n",
       "4     368        city  _nan_  chicago"
      ]
     },
     "execution_count": 12,
     "metadata": {},
     "output_type": "execute_result"
    }
   ],
   "source": [
    "all_error.head()"
   ]
  },
  {
   "cell_type": "code",
   "execution_count": 13,
   "metadata": {},
   "outputs": [
    {
     "data": {
      "text/plain": [
       "619"
      ]
     },
     "execution_count": 13,
     "metadata": {},
     "output_type": "execute_result"
    }
   ],
   "source": [
    "init_count = all_error.shape[0]\n",
    "init_count"
   ]
  },
  {
   "cell_type": "code",
   "execution_count": 14,
   "metadata": {},
   "outputs": [],
   "source": [
    "def contains_in_order(init, gt):\n",
    "    if not isinstance(init, str) or not isinstance(gt, str):\n",
    "        return False\n",
    "    if init.strip().isdigit():\n",
    "        return False\n",
    "    for token in init.split(\" \"):\n",
    "        token = token.strip()\n",
    "        if token in [\"st\", \"street\", \"pl\", \"rd\", \"blvd\", \"ave\", \"bldg\"]:\n",
    "            continue\n",
    "        if token not in gt:\n",
    "            return False\n",
    "    return True"
   ]
  },
  {
   "cell_type": "code",
   "execution_count": 15,
   "metadata": {},
   "outputs": [],
   "source": [
    "def contains(init, gt):\n",
    "    return contains_in_order(init, gt) or contains_in_order(gt, init)"
   ]
  },
  {
   "cell_type": "code",
   "execution_count": 16,
   "metadata": {},
   "outputs": [],
   "source": [
    "false_error = all_error[[contains(t[1]['init'], t[1]['gt']) for t in all_error.iterrows()]]"
   ]
  },
  {
   "cell_type": "code",
   "execution_count": 17,
   "metadata": {},
   "outputs": [],
   "source": [
    "false_error_tid = false_error._tid_.values"
   ]
  },
  {
   "cell_type": "code",
   "execution_count": 18,
   "metadata": {},
   "outputs": [
    {
     "data": {
      "text/plain": [
       "405"
      ]
     },
     "execution_count": 18,
     "metadata": {},
     "output_type": "execute_result"
    }
   ],
   "source": [
    "true_error_count = init_count - len(false_error_tid)\n",
    "true_error_count"
   ]
  },
  {
   "cell_type": "code",
   "execution_count": 19,
   "metadata": {},
   "outputs": [
    {
     "data": {
      "text/html": [
       "<div>\n",
       "<style scoped>\n",
       "    .dataframe tbody tr th:only-of-type {\n",
       "        vertical-align: middle;\n",
       "    }\n",
       "\n",
       "    .dataframe tbody tr th {\n",
       "        vertical-align: top;\n",
       "    }\n",
       "\n",
       "    .dataframe thead th {\n",
       "        text-align: right;\n",
       "    }\n",
       "</style>\n",
       "<table border=\"1\" class=\"dataframe\">\n",
       "  <thead>\n",
       "    <tr style=\"text-align: right;\">\n",
       "      <th></th>\n",
       "      <th>_tid_</th>\n",
       "      <th>_attribute_</th>\n",
       "      <th>init</th>\n",
       "      <th>gt</th>\n",
       "    </tr>\n",
       "  </thead>\n",
       "  <tbody>\n",
       "    <tr>\n",
       "      <th>141</th>\n",
       "      <td>132542</td>\n",
       "      <td>facilitytype</td>\n",
       "      <td>mobile food</td>\n",
       "      <td>mobile food dispenser</td>\n",
       "    </tr>\n",
       "    <tr>\n",
       "      <th>146</th>\n",
       "      <td>132816</td>\n",
       "      <td>facilitytype</td>\n",
       "      <td>mobile food</td>\n",
       "      <td>mobile food dispenser</td>\n",
       "    </tr>\n",
       "    <tr>\n",
       "      <th>147</th>\n",
       "      <td>132851</td>\n",
       "      <td>facilitytype</td>\n",
       "      <td>mobile food</td>\n",
       "      <td>mobile food dispenser</td>\n",
       "    </tr>\n",
       "    <tr>\n",
       "      <th>198</th>\n",
       "      <td>54907</td>\n",
       "      <td>facilitytype</td>\n",
       "      <td>store</td>\n",
       "      <td>grocery store</td>\n",
       "    </tr>\n",
       "    <tr>\n",
       "      <th>245</th>\n",
       "      <td>73770</td>\n",
       "      <td>facilitytype</td>\n",
       "      <td>rooftops</td>\n",
       "      <td>rooftop</td>\n",
       "    </tr>\n",
       "    <tr>\n",
       "      <th>348</th>\n",
       "      <td>100063</td>\n",
       "      <td>address</td>\n",
       "      <td>5633 n ashland ave</td>\n",
       "      <td>5633-5635 n ashland ave</td>\n",
       "    </tr>\n",
       "    <tr>\n",
       "      <th>349</th>\n",
       "      <td>100291</td>\n",
       "      <td>address</td>\n",
       "      <td>5633 n ashland ave</td>\n",
       "      <td>5633-5635 n ashland ave</td>\n",
       "    </tr>\n",
       "    <tr>\n",
       "      <th>350</th>\n",
       "      <td>104353</td>\n",
       "      <td>address</td>\n",
       "      <td>3632 n pulaski rd</td>\n",
       "      <td>3632-3640 n pulaski rd</td>\n",
       "    </tr>\n",
       "    <tr>\n",
       "      <th>351</th>\n",
       "      <td>105178</td>\n",
       "      <td>address</td>\n",
       "      <td>333 w 35th st bldg</td>\n",
       "      <td>333 w 35th st</td>\n",
       "    </tr>\n",
       "    <tr>\n",
       "      <th>352</th>\n",
       "      <td>106229</td>\n",
       "      <td>address</td>\n",
       "      <td>2008 n halsted</td>\n",
       "      <td>2008 n halsted st</td>\n",
       "    </tr>\n",
       "  </tbody>\n",
       "</table>\n",
       "</div>"
      ],
      "text/plain": [
       "      _tid_   _attribute_                init                       gt\n",
       "141  132542  facilitytype         mobile food    mobile food dispenser\n",
       "146  132816  facilitytype         mobile food    mobile food dispenser\n",
       "147  132851  facilitytype         mobile food    mobile food dispenser\n",
       "198   54907  facilitytype               store            grocery store\n",
       "245   73770  facilitytype            rooftops                  rooftop\n",
       "348  100063       address  5633 n ashland ave  5633-5635 n ashland ave\n",
       "349  100291       address  5633 n ashland ave  5633-5635 n ashland ave\n",
       "350  104353       address   3632 n pulaski rd   3632-3640 n pulaski rd\n",
       "351  105178       address  333 w 35th st bldg            333 w 35th st\n",
       "352  106229       address      2008 n halsted        2008 n halsted st"
      ]
     },
     "execution_count": 19,
     "metadata": {},
     "output_type": "execute_result"
    }
   ],
   "source": [
    "false_error.head(10)"
   ]
  },
  {
   "cell_type": "markdown",
   "metadata": {},
   "source": [
    "### Total Repair"
   ]
  },
  {
   "cell_type": "code",
   "execution_count": 20,
   "metadata": {},
   "outputs": [],
   "source": [
    "query = \"SELECT t1._tid_, t1.attribute, t1.init_value as init, t2.rv_value as repair \" \\\n",
    "                 \"FROM %s as t1, %s as t2 \" \\\n",
    "                 \"WHERE t1._tid_ = t2._tid_ \" \\\n",
    "                   \"AND t1.attribute = t2.attribute \" \\\n",
    "                   \"AND t1.init_value != t2.rv_value\"\\\n",
    "                %('cell_domain', 'inf_values_dom')\n",
    "all_repair = query_df(query)"
   ]
  },
  {
   "cell_type": "code",
   "execution_count": 21,
   "metadata": {},
   "outputs": [
    {
     "data": {
      "text/html": [
       "<div>\n",
       "<style scoped>\n",
       "    .dataframe tbody tr th:only-of-type {\n",
       "        vertical-align: middle;\n",
       "    }\n",
       "\n",
       "    .dataframe tbody tr th {\n",
       "        vertical-align: top;\n",
       "    }\n",
       "\n",
       "    .dataframe thead th {\n",
       "        text-align: right;\n",
       "    }\n",
       "</style>\n",
       "<table border=\"1\" class=\"dataframe\">\n",
       "  <thead>\n",
       "    <tr style=\"text-align: right;\">\n",
       "      <th></th>\n",
       "      <th>_tid_</th>\n",
       "      <th>attribute</th>\n",
       "      <th>init</th>\n",
       "      <th>repair</th>\n",
       "    </tr>\n",
       "  </thead>\n",
       "  <tbody>\n",
       "    <tr>\n",
       "      <th>0</th>\n",
       "      <td>462</td>\n",
       "      <td>facilitytype</td>\n",
       "      <td>_nan_</td>\n",
       "      <td>restaurant</td>\n",
       "    </tr>\n",
       "    <tr>\n",
       "      <th>1</th>\n",
       "      <td>2746</td>\n",
       "      <td>dbaname</td>\n",
       "      <td>whale tale</td>\n",
       "      <td>filippos</td>\n",
       "    </tr>\n",
       "    <tr>\n",
       "      <th>2</th>\n",
       "      <td>4563</td>\n",
       "      <td>dbaname</td>\n",
       "      <td>table</td>\n",
       "      <td>bonsoiree</td>\n",
       "    </tr>\n",
       "    <tr>\n",
       "      <th>3</th>\n",
       "      <td>7096</td>\n",
       "      <td>dbaname</td>\n",
       "      <td>galleria market</td>\n",
       "      <td>europa galleria inc</td>\n",
       "    </tr>\n",
       "    <tr>\n",
       "      <th>4</th>\n",
       "      <td>9895</td>\n",
       "      <td>risk</td>\n",
       "      <td>_nan_</td>\n",
       "      <td>risk 2 (medium)</td>\n",
       "    </tr>\n",
       "  </tbody>\n",
       "</table>\n",
       "</div>"
      ],
      "text/plain": [
       "   _tid_     attribute             init               repair\n",
       "0    462  facilitytype            _nan_           restaurant\n",
       "1   2746       dbaname       whale tale             filippos\n",
       "2   4563       dbaname            table            bonsoiree\n",
       "3   7096       dbaname  galleria market  europa galleria inc\n",
       "4   9895          risk            _nan_      risk 2 (medium)"
      ]
     },
     "execution_count": 21,
     "metadata": {},
     "output_type": "execute_result"
    }
   ],
   "source": [
    "all_repair.head()"
   ]
  },
  {
   "cell_type": "code",
   "execution_count": 22,
   "metadata": {},
   "outputs": [],
   "source": [
    "false_repair = all_repair[[contains(t[1]['init'], t[1]['repair']) for t in all_repair.iterrows()]]"
   ]
  },
  {
   "cell_type": "code",
   "execution_count": 23,
   "metadata": {},
   "outputs": [
    {
     "data": {
      "text/html": [
       "<div>\n",
       "<style scoped>\n",
       "    .dataframe tbody tr th:only-of-type {\n",
       "        vertical-align: middle;\n",
       "    }\n",
       "\n",
       "    .dataframe tbody tr th {\n",
       "        vertical-align: top;\n",
       "    }\n",
       "\n",
       "    .dataframe thead th {\n",
       "        text-align: right;\n",
       "    }\n",
       "</style>\n",
       "<table border=\"1\" class=\"dataframe\">\n",
       "  <thead>\n",
       "    <tr style=\"text-align: right;\">\n",
       "      <th></th>\n",
       "      <th>_tid_</th>\n",
       "      <th>attribute</th>\n",
       "      <th>init</th>\n",
       "      <th>repair</th>\n",
       "    </tr>\n",
       "  </thead>\n",
       "  <tbody>\n",
       "    <tr>\n",
       "      <th>15</th>\n",
       "      <td>59974</td>\n",
       "      <td>dbaname</td>\n",
       "      <td>sports service soldier field</td>\n",
       "      <td>sportservice soldier field</td>\n",
       "    </tr>\n",
       "    <tr>\n",
       "      <th>32</th>\n",
       "      <td>76078</td>\n",
       "      <td>dbaname</td>\n",
       "      <td>gallery food express</td>\n",
       "      <td>gallery food express inc.</td>\n",
       "    </tr>\n",
       "    <tr>\n",
       "      <th>40</th>\n",
       "      <td>91077</td>\n",
       "      <td>address</td>\n",
       "      <td>201 n state st fl</td>\n",
       "      <td>201 n state st</td>\n",
       "    </tr>\n",
       "    <tr>\n",
       "      <th>47</th>\n",
       "      <td>108759</td>\n",
       "      <td>dbaname</td>\n",
       "      <td>sports service soldier field</td>\n",
       "      <td>sportservice soldier field</td>\n",
       "    </tr>\n",
       "    <tr>\n",
       "      <th>52</th>\n",
       "      <td>117866</td>\n",
       "      <td>akaname</td>\n",
       "      <td>carniceria guanajuato</td>\n",
       "      <td>carniceria guanajuato #3</td>\n",
       "    </tr>\n",
       "    <tr>\n",
       "      <th>58</th>\n",
       "      <td>125634</td>\n",
       "      <td>dbaname</td>\n",
       "      <td>harolds chicken</td>\n",
       "      <td>harolds chicken shack</td>\n",
       "    </tr>\n",
       "    <tr>\n",
       "      <th>62</th>\n",
       "      <td>128387</td>\n",
       "      <td>address</td>\n",
       "      <td>1300 e 47th st bldg</td>\n",
       "      <td>1300 e 47th st</td>\n",
       "    </tr>\n",
       "    <tr>\n",
       "      <th>64</th>\n",
       "      <td>133691</td>\n",
       "      <td>address</td>\n",
       "      <td>1960 w 13 th st</td>\n",
       "      <td>1960 w 13th st</td>\n",
       "    </tr>\n",
       "  </tbody>\n",
       "</table>\n",
       "</div>"
      ],
      "text/plain": [
       "     _tid_ attribute                          init                      repair\n",
       "15   59974   dbaname  sports service soldier field  sportservice soldier field\n",
       "32   76078   dbaname          gallery food express   gallery food express inc.\n",
       "40   91077   address             201 n state st fl              201 n state st\n",
       "47  108759   dbaname  sports service soldier field  sportservice soldier field\n",
       "52  117866   akaname         carniceria guanajuato    carniceria guanajuato #3\n",
       "58  125634   dbaname               harolds chicken       harolds chicken shack\n",
       "62  128387   address           1300 e 47th st bldg              1300 e 47th st\n",
       "64  133691   address               1960 w 13 th st              1960 w 13th st"
      ]
     },
     "execution_count": 23,
     "metadata": {},
     "output_type": "execute_result"
    }
   ],
   "source": [
    "false_repair.head(10)"
   ]
  },
  {
   "cell_type": "code",
   "execution_count": 24,
   "metadata": {},
   "outputs": [],
   "source": [
    "false_repair_tid = false_repair._tid_.values"
   ]
  },
  {
   "cell_type": "code",
   "execution_count": 25,
   "metadata": {},
   "outputs": [
    {
     "data": {
      "text/plain": [
       "65"
      ]
     },
     "execution_count": 25,
     "metadata": {},
     "output_type": "execute_result"
    }
   ],
   "source": [
    "total_repair_init_count = all_repair.shape[0]\n",
    "total_repair_init_count"
   ]
  },
  {
   "cell_type": "code",
   "execution_count": 26,
   "metadata": {},
   "outputs": [
    {
     "data": {
      "text/plain": [
       "57"
      ]
     },
     "execution_count": 26,
     "metadata": {},
     "output_type": "execute_result"
    }
   ],
   "source": [
    "true_total_repair_count = total_repair_init_count - len(false_repair_tid)\n",
    "true_total_repair_count"
   ]
  },
  {
   "cell_type": "code",
   "execution_count": 27,
   "metadata": {},
   "outputs": [],
   "source": [
    "query = \"SELECT t1._tid_, t1.attribute, t1.init_value as init, t2.rv_value as repair \" \\\n",
    "         \"FROM %s as t1, %s as t2, %s as t3 \" \\\n",
    "         \"WHERE t1._tid_ = t2._tid_ \" \\\n",
    "           \"AND t1.attribute = t2.attribute \" \\\n",
    "           \"AND t1.init_value != t2.rv_value \" \\\n",
    "           \"AND t1._tid_ = t3._tid_ \" \\\n",
    "           \"AND t1.attribute = t3._attribute_\"\\\n",
    "        %('cell_domain', 'inf_values_dom', 'food_clean')\n",
    "repair_gt = query_df(query)"
   ]
  },
  {
   "cell_type": "code",
   "execution_count": 28,
   "metadata": {},
   "outputs": [
    {
     "data": {
      "text/html": [
       "<div>\n",
       "<style scoped>\n",
       "    .dataframe tbody tr th:only-of-type {\n",
       "        vertical-align: middle;\n",
       "    }\n",
       "\n",
       "    .dataframe tbody tr th {\n",
       "        vertical-align: top;\n",
       "    }\n",
       "\n",
       "    .dataframe thead th {\n",
       "        text-align: right;\n",
       "    }\n",
       "</style>\n",
       "<table border=\"1\" class=\"dataframe\">\n",
       "  <thead>\n",
       "    <tr style=\"text-align: right;\">\n",
       "      <th></th>\n",
       "      <th>_tid_</th>\n",
       "      <th>attribute</th>\n",
       "      <th>init</th>\n",
       "      <th>repair</th>\n",
       "    </tr>\n",
       "  </thead>\n",
       "  <tbody>\n",
       "    <tr>\n",
       "      <th>0</th>\n",
       "      <td>26760</td>\n",
       "      <td>facilitytype</td>\n",
       "      <td>navy pier kiosk</td>\n",
       "      <td>restaurant</td>\n",
       "    </tr>\n",
       "    <tr>\n",
       "      <th>1</th>\n",
       "      <td>57615</td>\n",
       "      <td>facilitytype</td>\n",
       "      <td>_nan_</td>\n",
       "      <td>restaurant</td>\n",
       "    </tr>\n",
       "    <tr>\n",
       "      <th>2</th>\n",
       "      <td>59977</td>\n",
       "      <td>facilitytype</td>\n",
       "      <td>_nan_</td>\n",
       "      <td>restaurant</td>\n",
       "    </tr>\n",
       "    <tr>\n",
       "      <th>3</th>\n",
       "      <td>63404</td>\n",
       "      <td>facilitytype</td>\n",
       "      <td>_nan_</td>\n",
       "      <td>restaurant</td>\n",
       "    </tr>\n",
       "    <tr>\n",
       "      <th>4</th>\n",
       "      <td>67929</td>\n",
       "      <td>facilitytype</td>\n",
       "      <td>_nan_</td>\n",
       "      <td>restaurant</td>\n",
       "    </tr>\n",
       "  </tbody>\n",
       "</table>\n",
       "</div>"
      ],
      "text/plain": [
       "   _tid_     attribute             init      repair\n",
       "0  26760  facilitytype  navy pier kiosk  restaurant\n",
       "1  57615  facilitytype            _nan_  restaurant\n",
       "2  59977  facilitytype            _nan_  restaurant\n",
       "3  63404  facilitytype            _nan_  restaurant\n",
       "4  67929  facilitytype            _nan_  restaurant"
      ]
     },
     "execution_count": 28,
     "metadata": {},
     "output_type": "execute_result"
    }
   ],
   "source": [
    "repair_gt.head()"
   ]
  },
  {
   "cell_type": "code",
   "execution_count": 29,
   "metadata": {},
   "outputs": [
    {
     "data": {
      "text/plain": [
       "20"
      ]
     },
     "execution_count": 29,
     "metadata": {},
     "output_type": "execute_result"
    }
   ],
   "source": [
    "repair_gt_init_count = repair_gt.shape[0]\n",
    "repair_gt_init_count"
   ]
  },
  {
   "cell_type": "code",
   "execution_count": 30,
   "metadata": {},
   "outputs": [],
   "source": [
    "false_repair_gt = repair_gt[[contains(t[1]['init'], t[1]['repair']) for t in repair_gt.iterrows()]]"
   ]
  },
  {
   "cell_type": "code",
   "execution_count": 31,
   "metadata": {},
   "outputs": [
    {
     "data": {
      "text/html": [
       "<div>\n",
       "<style scoped>\n",
       "    .dataframe tbody tr th:only-of-type {\n",
       "        vertical-align: middle;\n",
       "    }\n",
       "\n",
       "    .dataframe tbody tr th {\n",
       "        vertical-align: top;\n",
       "    }\n",
       "\n",
       "    .dataframe thead th {\n",
       "        text-align: right;\n",
       "    }\n",
       "</style>\n",
       "<table border=\"1\" class=\"dataframe\">\n",
       "  <thead>\n",
       "    <tr style=\"text-align: right;\">\n",
       "      <th></th>\n",
       "      <th>_tid_</th>\n",
       "      <th>attribute</th>\n",
       "      <th>init</th>\n",
       "      <th>repair</th>\n",
       "    </tr>\n",
       "  </thead>\n",
       "  <tbody>\n",
       "    <tr>\n",
       "      <th>13</th>\n",
       "      <td>91077</td>\n",
       "      <td>address</td>\n",
       "      <td>201 n state st fl</td>\n",
       "      <td>201 n state st</td>\n",
       "    </tr>\n",
       "  </tbody>\n",
       "</table>\n",
       "</div>"
      ],
      "text/plain": [
       "    _tid_ attribute               init          repair\n",
       "13  91077   address  201 n state st fl  201 n state st"
      ]
     },
     "execution_count": 31,
     "metadata": {},
     "output_type": "execute_result"
    }
   ],
   "source": [
    "false_repair_gt.head(10)"
   ]
  },
  {
   "cell_type": "code",
   "execution_count": 32,
   "metadata": {},
   "outputs": [],
   "source": [
    "false_repair_gt_tid = false_repair_gt._tid_.values"
   ]
  },
  {
   "cell_type": "code",
   "execution_count": 33,
   "metadata": {},
   "outputs": [
    {
     "data": {
      "text/plain": [
       "19"
      ]
     },
     "execution_count": 33,
     "metadata": {},
     "output_type": "execute_result"
    }
   ],
   "source": [
    "true_repair_gt_count = repair_gt_init_count - len(false_repair_gt_tid)\n",
    "true_repair_gt_count"
   ]
  },
  {
   "cell_type": "markdown",
   "metadata": {},
   "source": [
    "### Correct Repair"
   ]
  },
  {
   "cell_type": "code",
   "execution_count": 34,
   "metadata": {},
   "outputs": [],
   "source": [
    "repairs_template = Template('SELECT errors._tid_, errors._attribute_, '\\\n",
    "                            ' errors.init, errors._value_ as gt, repairs.rv_value as repair FROM'\\\n",
    "                            '(SELECT t2._tid_, t2._attribute_, t2._value_, t1.$attr as init '\\\n",
    "                             'FROM $init_table as t1, $grdt_table as t2 '\\\n",
    "                             'WHERE t1._tid_ = t2._tid_ '\\\n",
    "                               'AND t2._attribute_ = \\'$attr\\' '\\\n",
    "                               'AND t1.$attr != t2._value_ ) as errors, $inf_dom as repairs '\\\n",
    "                              'WHERE errors._tid_ = repairs._tid_ '\\\n",
    "                                'AND errors._attribute_ = repairs.attribute ')"
   ]
  },
  {
   "cell_type": "code",
   "execution_count": 35,
   "metadata": {},
   "outputs": [],
   "source": [
    "def get_total_repair():\n",
    "    all_rp = []\n",
    "    for attr in attributes:\n",
    "        query = repairs_template.substitute(init_table='food', grdt_table='food_clean', \n",
    "                                            inf_dom = 'inf_values_dom', attr=attr)\n",
    "        df = query_df(query)\n",
    "        all_rp.append(df)\n",
    "    return all_rp"
   ]
  },
  {
   "cell_type": "code",
   "execution_count": 36,
   "metadata": {},
   "outputs": [],
   "source": [
    "all_repair_gt = get_total_repair()"
   ]
  },
  {
   "cell_type": "code",
   "execution_count": 37,
   "metadata": {},
   "outputs": [],
   "source": [
    "all_repair_gt = pd.concat(all_repair_gt, ignore_index=True)"
   ]
  },
  {
   "cell_type": "code",
   "execution_count": 38,
   "metadata": {},
   "outputs": [
    {
     "data": {
      "text/html": [
       "<div>\n",
       "<style scoped>\n",
       "    .dataframe tbody tr th:only-of-type {\n",
       "        vertical-align: middle;\n",
       "    }\n",
       "\n",
       "    .dataframe tbody tr th {\n",
       "        vertical-align: top;\n",
       "    }\n",
       "\n",
       "    .dataframe thead th {\n",
       "        text-align: right;\n",
       "    }\n",
       "</style>\n",
       "<table border=\"1\" class=\"dataframe\">\n",
       "  <thead>\n",
       "    <tr style=\"text-align: right;\">\n",
       "      <th></th>\n",
       "      <th>_tid_</th>\n",
       "      <th>_attribute_</th>\n",
       "      <th>init</th>\n",
       "      <th>gt</th>\n",
       "      <th>repair</th>\n",
       "    </tr>\n",
       "  </thead>\n",
       "  <tbody>\n",
       "    <tr>\n",
       "      <th>0</th>\n",
       "      <td>152</td>\n",
       "      <td>facilitytype</td>\n",
       "      <td>childrens services facility</td>\n",
       "      <td>school</td>\n",
       "      <td>childrens services facility</td>\n",
       "    </tr>\n",
       "    <tr>\n",
       "      <th>1</th>\n",
       "      <td>1090</td>\n",
       "      <td>facilitytype</td>\n",
       "      <td>mobile food dispenser</td>\n",
       "      <td>restaurant</td>\n",
       "      <td>mobile food dispenser</td>\n",
       "    </tr>\n",
       "    <tr>\n",
       "      <th>2</th>\n",
       "      <td>1094</td>\n",
       "      <td>facilitytype</td>\n",
       "      <td>mobile food dispenser</td>\n",
       "      <td>restaurant</td>\n",
       "      <td>mobile food dispenser</td>\n",
       "    </tr>\n",
       "    <tr>\n",
       "      <th>3</th>\n",
       "      <td>1096</td>\n",
       "      <td>facilitytype</td>\n",
       "      <td>mobile food dispenser</td>\n",
       "      <td>restaurant</td>\n",
       "      <td>mobile food dispenser</td>\n",
       "    </tr>\n",
       "    <tr>\n",
       "      <th>4</th>\n",
       "      <td>2275</td>\n",
       "      <td>facilitytype</td>\n",
       "      <td>mobile food dispenser</td>\n",
       "      <td>restaurant</td>\n",
       "      <td>mobile food dispenser</td>\n",
       "    </tr>\n",
       "  </tbody>\n",
       "</table>\n",
       "</div>"
      ],
      "text/plain": [
       "  _tid_   _attribute_                         init          gt  \\\n",
       "0   152  facilitytype  childrens services facility      school   \n",
       "1  1090  facilitytype        mobile food dispenser  restaurant   \n",
       "2  1094  facilitytype        mobile food dispenser  restaurant   \n",
       "3  1096  facilitytype        mobile food dispenser  restaurant   \n",
       "4  2275  facilitytype        mobile food dispenser  restaurant   \n",
       "\n",
       "                        repair  \n",
       "0  childrens services facility  \n",
       "1        mobile food dispenser  \n",
       "2        mobile food dispenser  \n",
       "3        mobile food dispenser  \n",
       "4        mobile food dispenser  "
      ]
     },
     "execution_count": 38,
     "metadata": {},
     "output_type": "execute_result"
    }
   ],
   "source": [
    "all_repair_gt.head()"
   ]
  },
  {
   "cell_type": "code",
   "execution_count": 39,
   "metadata": {},
   "outputs": [
    {
     "data": {
      "text/plain": [
       "500"
      ]
     },
     "execution_count": 39,
     "metadata": {},
     "output_type": "execute_result"
    }
   ],
   "source": [
    "all_repair_gt.shape[0]"
   ]
  },
  {
   "cell_type": "code",
   "execution_count": 40,
   "metadata": {},
   "outputs": [
    {
     "data": {
      "text/plain": [
       "343"
      ]
     },
     "execution_count": 40,
     "metadata": {},
     "output_type": "execute_result"
    }
   ],
   "source": [
    "# 1. remove false errors & false repairs\n",
    "to_remove = list(set(false_error_tid).union(set(false_repair_gt_tid)))\n",
    "repair_df = all_repair_gt[~all_repair_gt['_tid_'].isin(to_remove)]\n",
    "repair_df.shape[0]"
   ]
  },
  {
   "cell_type": "code",
   "execution_count": 41,
   "metadata": {},
   "outputs": [],
   "source": [
    "# 2. pick two mutual exclusive parts: 1) strict equal -- init_count 2) non-strict equal\n",
    "strict_equal = repair_df[repair_df['repair'] == repair_df['gt']]"
   ]
  },
  {
   "cell_type": "code",
   "execution_count": 42,
   "metadata": {},
   "outputs": [],
   "source": [
    "strict_equal_count = strict_equal.shape[0]"
   ]
  },
  {
   "cell_type": "code",
   "execution_count": 43,
   "metadata": {},
   "outputs": [],
   "source": [
    "nonstrict = repair_df[repair_df['repair'] != repair_df['gt']]"
   ]
  },
  {
   "cell_type": "code",
   "execution_count": 44,
   "metadata": {},
   "outputs": [
    {
     "data": {
      "text/html": [
       "<div>\n",
       "<style scoped>\n",
       "    .dataframe tbody tr th:only-of-type {\n",
       "        vertical-align: middle;\n",
       "    }\n",
       "\n",
       "    .dataframe tbody tr th {\n",
       "        vertical-align: top;\n",
       "    }\n",
       "\n",
       "    .dataframe thead th {\n",
       "        text-align: right;\n",
       "    }\n",
       "</style>\n",
       "<table border=\"1\" class=\"dataframe\">\n",
       "  <thead>\n",
       "    <tr style=\"text-align: right;\">\n",
       "      <th></th>\n",
       "      <th>_tid_</th>\n",
       "      <th>_attribute_</th>\n",
       "      <th>init</th>\n",
       "      <th>gt</th>\n",
       "      <th>repair</th>\n",
       "    </tr>\n",
       "  </thead>\n",
       "  <tbody>\n",
       "    <tr>\n",
       "      <th>0</th>\n",
       "      <td>152</td>\n",
       "      <td>facilitytype</td>\n",
       "      <td>childrens services facility</td>\n",
       "      <td>school</td>\n",
       "      <td>childrens services facility</td>\n",
       "    </tr>\n",
       "    <tr>\n",
       "      <th>1</th>\n",
       "      <td>1090</td>\n",
       "      <td>facilitytype</td>\n",
       "      <td>mobile food dispenser</td>\n",
       "      <td>restaurant</td>\n",
       "      <td>mobile food dispenser</td>\n",
       "    </tr>\n",
       "    <tr>\n",
       "      <th>2</th>\n",
       "      <td>1094</td>\n",
       "      <td>facilitytype</td>\n",
       "      <td>mobile food dispenser</td>\n",
       "      <td>restaurant</td>\n",
       "      <td>mobile food dispenser</td>\n",
       "    </tr>\n",
       "    <tr>\n",
       "      <th>3</th>\n",
       "      <td>1096</td>\n",
       "      <td>facilitytype</td>\n",
       "      <td>mobile food dispenser</td>\n",
       "      <td>restaurant</td>\n",
       "      <td>mobile food dispenser</td>\n",
       "    </tr>\n",
       "    <tr>\n",
       "      <th>4</th>\n",
       "      <td>2275</td>\n",
       "      <td>facilitytype</td>\n",
       "      <td>mobile food dispenser</td>\n",
       "      <td>restaurant</td>\n",
       "      <td>mobile food dispenser</td>\n",
       "    </tr>\n",
       "    <tr>\n",
       "      <th>5</th>\n",
       "      <td>2535</td>\n",
       "      <td>facilitytype</td>\n",
       "      <td>_nan_</td>\n",
       "      <td>restaurant</td>\n",
       "      <td>_nan_</td>\n",
       "    </tr>\n",
       "    <tr>\n",
       "      <th>6</th>\n",
       "      <td>3317</td>\n",
       "      <td>facilitytype</td>\n",
       "      <td>childrens services facility</td>\n",
       "      <td>school</td>\n",
       "      <td>childrens services facility</td>\n",
       "    </tr>\n",
       "    <tr>\n",
       "      <th>7</th>\n",
       "      <td>3807</td>\n",
       "      <td>facilitytype</td>\n",
       "      <td>_nan_</td>\n",
       "      <td>restaurant</td>\n",
       "      <td>_nan_</td>\n",
       "    </tr>\n",
       "    <tr>\n",
       "      <th>8</th>\n",
       "      <td>3922</td>\n",
       "      <td>facilitytype</td>\n",
       "      <td>mobile prepared food vendor</td>\n",
       "      <td>bakery</td>\n",
       "      <td>mobile prepared food vendor</td>\n",
       "    </tr>\n",
       "    <tr>\n",
       "      <th>9</th>\n",
       "      <td>4242</td>\n",
       "      <td>facilitytype</td>\n",
       "      <td>childrens services facility</td>\n",
       "      <td>daycare above and under 2 years</td>\n",
       "      <td>childrens services facility</td>\n",
       "    </tr>\n",
       "    <tr>\n",
       "      <th>10</th>\n",
       "      <td>4734</td>\n",
       "      <td>facilitytype</td>\n",
       "      <td>_nan_</td>\n",
       "      <td>restaurant</td>\n",
       "      <td>_nan_</td>\n",
       "    </tr>\n",
       "    <tr>\n",
       "      <th>11</th>\n",
       "      <td>5184</td>\n",
       "      <td>facilitytype</td>\n",
       "      <td>northerly island</td>\n",
       "      <td>special event</td>\n",
       "      <td>northerly island</td>\n",
       "    </tr>\n",
       "    <tr>\n",
       "      <th>12</th>\n",
       "      <td>5706</td>\n",
       "      <td>facilitytype</td>\n",
       "      <td>mobile food dispenser</td>\n",
       "      <td>restaurant</td>\n",
       "      <td>mobile food dispenser</td>\n",
       "    </tr>\n",
       "    <tr>\n",
       "      <th>13</th>\n",
       "      <td>6223</td>\n",
       "      <td>facilitytype</td>\n",
       "      <td>northerly island</td>\n",
       "      <td>special event</td>\n",
       "      <td>northerly island</td>\n",
       "    </tr>\n",
       "    <tr>\n",
       "      <th>14</th>\n",
       "      <td>6468</td>\n",
       "      <td>facilitytype</td>\n",
       "      <td>_nan_</td>\n",
       "      <td>restaurant</td>\n",
       "      <td>_nan_</td>\n",
       "    </tr>\n",
       "    <tr>\n",
       "      <th>15</th>\n",
       "      <td>6952</td>\n",
       "      <td>facilitytype</td>\n",
       "      <td>mobile food dispenser</td>\n",
       "      <td>restaurant</td>\n",
       "      <td>mobile food dispenser</td>\n",
       "    </tr>\n",
       "    <tr>\n",
       "      <th>16</th>\n",
       "      <td>8610</td>\n",
       "      <td>facilitytype</td>\n",
       "      <td>restaurant</td>\n",
       "      <td>mobile food dispenser</td>\n",
       "      <td>restaurant</td>\n",
       "    </tr>\n",
       "    <tr>\n",
       "      <th>17</th>\n",
       "      <td>8798</td>\n",
       "      <td>facilitytype</td>\n",
       "      <td>daycare above and under 2 years</td>\n",
       "      <td>daycare (2 - 6 years)</td>\n",
       "      <td>daycare above and under 2 years</td>\n",
       "    </tr>\n",
       "    <tr>\n",
       "      <th>18</th>\n",
       "      <td>8800</td>\n",
       "      <td>facilitytype</td>\n",
       "      <td>push carts</td>\n",
       "      <td>mobile food dispenser</td>\n",
       "      <td>push carts</td>\n",
       "    </tr>\n",
       "    <tr>\n",
       "      <th>19</th>\n",
       "      <td>10620</td>\n",
       "      <td>facilitytype</td>\n",
       "      <td>push carts</td>\n",
       "      <td>mobile food dispenser</td>\n",
       "      <td>push carts</td>\n",
       "    </tr>\n",
       "    <tr>\n",
       "      <th>20</th>\n",
       "      <td>15873</td>\n",
       "      <td>facilitytype</td>\n",
       "      <td>_nan_</td>\n",
       "      <td>restaurant</td>\n",
       "      <td>_nan_</td>\n",
       "    </tr>\n",
       "    <tr>\n",
       "      <th>21</th>\n",
       "      <td>17009</td>\n",
       "      <td>facilitytype</td>\n",
       "      <td>restaurant</td>\n",
       "      <td>mobile food dispenser</td>\n",
       "      <td>restaurant</td>\n",
       "    </tr>\n",
       "    <tr>\n",
       "      <th>22</th>\n",
       "      <td>24942</td>\n",
       "      <td>facilitytype</td>\n",
       "      <td>_nan_</td>\n",
       "      <td>grocery store</td>\n",
       "      <td>_nan_</td>\n",
       "    </tr>\n",
       "    <tr>\n",
       "      <th>23</th>\n",
       "      <td>29359</td>\n",
       "      <td>facilitytype</td>\n",
       "      <td>_nan_</td>\n",
       "      <td>restaurant</td>\n",
       "      <td>_nan_</td>\n",
       "    </tr>\n",
       "    <tr>\n",
       "      <th>24</th>\n",
       "      <td>29918</td>\n",
       "      <td>facilitytype</td>\n",
       "      <td>_nan_</td>\n",
       "      <td>restaurant</td>\n",
       "      <td>_nan_</td>\n",
       "    </tr>\n",
       "    <tr>\n",
       "      <th>25</th>\n",
       "      <td>30769</td>\n",
       "      <td>facilitytype</td>\n",
       "      <td>_nan_</td>\n",
       "      <td>liquor</td>\n",
       "      <td>_nan_</td>\n",
       "    </tr>\n",
       "    <tr>\n",
       "      <th>26</th>\n",
       "      <td>35835</td>\n",
       "      <td>facilitytype</td>\n",
       "      <td>_nan_</td>\n",
       "      <td>restaurant</td>\n",
       "      <td>_nan_</td>\n",
       "    </tr>\n",
       "    <tr>\n",
       "      <th>27</th>\n",
       "      <td>36313</td>\n",
       "      <td>facilitytype</td>\n",
       "      <td>_nan_</td>\n",
       "      <td>restaurant</td>\n",
       "      <td>_nan_</td>\n",
       "    </tr>\n",
       "    <tr>\n",
       "      <th>28</th>\n",
       "      <td>37406</td>\n",
       "      <td>facilitytype</td>\n",
       "      <td>_nan_</td>\n",
       "      <td>restaurant</td>\n",
       "      <td>_nan_</td>\n",
       "    </tr>\n",
       "    <tr>\n",
       "      <th>29</th>\n",
       "      <td>37511</td>\n",
       "      <td>facilitytype</td>\n",
       "      <td>_nan_</td>\n",
       "      <td>restaurant</td>\n",
       "      <td>_nan_</td>\n",
       "    </tr>\n",
       "    <tr>\n",
       "      <th>...</th>\n",
       "      <td>...</td>\n",
       "      <td>...</td>\n",
       "      <td>...</td>\n",
       "      <td>...</td>\n",
       "      <td>...</td>\n",
       "    </tr>\n",
       "    <tr>\n",
       "      <th>347</th>\n",
       "      <td>54913</td>\n",
       "      <td>address</td>\n",
       "      <td>3463-3467 n broadway bldg</td>\n",
       "      <td>3463-3465 n broadway</td>\n",
       "      <td>3463-3467 n broadway bldg</td>\n",
       "    </tr>\n",
       "    <tr>\n",
       "      <th>348</th>\n",
       "      <td>54922</td>\n",
       "      <td>address</td>\n",
       "      <td>3463-3467 n broadway bldg</td>\n",
       "      <td>3463-3465 n broadway</td>\n",
       "      <td>3463-3467 n broadway bldg</td>\n",
       "    </tr>\n",
       "    <tr>\n",
       "      <th>353</th>\n",
       "      <td>58673</td>\n",
       "      <td>address</td>\n",
       "      <td>4310-4314 s prairie ave</td>\n",
       "      <td>4310-4312 s prairie ave</td>\n",
       "      <td>4310-4314 s prairie ave</td>\n",
       "    </tr>\n",
       "    <tr>\n",
       "      <th>357</th>\n",
       "      <td>61527</td>\n",
       "      <td>address</td>\n",
       "      <td>3313-3317 n broadway</td>\n",
       "      <td>3313-3319 n broadway</td>\n",
       "      <td>3313-3317 n broadway</td>\n",
       "    </tr>\n",
       "    <tr>\n",
       "      <th>358</th>\n",
       "      <td>61686</td>\n",
       "      <td>address</td>\n",
       "      <td>3313-3317 n broadway</td>\n",
       "      <td>3313-3319 n broadway</td>\n",
       "      <td>3313-3317 n broadway</td>\n",
       "    </tr>\n",
       "    <tr>\n",
       "      <th>360</th>\n",
       "      <td>61925</td>\n",
       "      <td>address</td>\n",
       "      <td>3313-3317 n broadway</td>\n",
       "      <td>3313-3319 n broadway</td>\n",
       "      <td>3313-3317 n broadway</td>\n",
       "    </tr>\n",
       "    <tr>\n",
       "      <th>361</th>\n",
       "      <td>62250</td>\n",
       "      <td>address</td>\n",
       "      <td>3313-3317 n broadway</td>\n",
       "      <td>3313-3319 n broadway</td>\n",
       "      <td>3313-3317 n broadway</td>\n",
       "    </tr>\n",
       "    <tr>\n",
       "      <th>364</th>\n",
       "      <td>67829</td>\n",
       "      <td>address</td>\n",
       "      <td>2301-2303 w foster ave</td>\n",
       "      <td>2301-03 w foster ave</td>\n",
       "      <td>2301-2303 w foster ave</td>\n",
       "    </tr>\n",
       "    <tr>\n",
       "      <th>401</th>\n",
       "      <td>96481</td>\n",
       "      <td>address</td>\n",
       "      <td>3313-3317 n broadway</td>\n",
       "      <td>3313-3319 n broadway</td>\n",
       "      <td>3313-3317 n broadway</td>\n",
       "    </tr>\n",
       "    <tr>\n",
       "      <th>412</th>\n",
       "      <td>107399</td>\n",
       "      <td>address</td>\n",
       "      <td>2537 -2541 n kedzie blvd</td>\n",
       "      <td>2537-2543 n kedzie ave</td>\n",
       "      <td>2537 -2541 n kedzie blvd</td>\n",
       "    </tr>\n",
       "    <tr>\n",
       "      <th>423</th>\n",
       "      <td>116478</td>\n",
       "      <td>address</td>\n",
       "      <td>2150-2158 w belmont ave bldg</td>\n",
       "      <td>2150-58 w belmont ave bldg</td>\n",
       "      <td>2150-2158 w belmont ave bldg</td>\n",
       "    </tr>\n",
       "    <tr>\n",
       "      <th>437</th>\n",
       "      <td>119979</td>\n",
       "      <td>address</td>\n",
       "      <td>2537 -2541 n kedzie blvd</td>\n",
       "      <td>2537-2543 n kedzie ave</td>\n",
       "      <td>2537 -2541 n kedzie blvd</td>\n",
       "    </tr>\n",
       "    <tr>\n",
       "      <th>478</th>\n",
       "      <td>51745</td>\n",
       "      <td>dbaname</td>\n",
       "      <td>3639 llc</td>\n",
       "      <td>wrigleyville rooftops</td>\n",
       "      <td>3639 llc</td>\n",
       "    </tr>\n",
       "    <tr>\n",
       "      <th>479</th>\n",
       "      <td>64118</td>\n",
       "      <td>dbaname</td>\n",
       "      <td>bismarck enterprises/united</td>\n",
       "      <td>the united center</td>\n",
       "      <td>bismarck enterprises/united</td>\n",
       "    </tr>\n",
       "    <tr>\n",
       "      <th>480</th>\n",
       "      <td>66155</td>\n",
       "      <td>dbaname</td>\n",
       "      <td>michoacan restaurant</td>\n",
       "      <td>jalisco restaurant</td>\n",
       "      <td>michoacan restaurant</td>\n",
       "    </tr>\n",
       "    <tr>\n",
       "      <th>485</th>\n",
       "      <td>59833</td>\n",
       "      <td>zip</td>\n",
       "      <td>_nan_</td>\n",
       "      <td>60616</td>\n",
       "      <td>_nan_</td>\n",
       "    </tr>\n",
       "    <tr>\n",
       "      <th>486</th>\n",
       "      <td>63499</td>\n",
       "      <td>zip</td>\n",
       "      <td>_nan_</td>\n",
       "      <td>60605</td>\n",
       "      <td>_nan_</td>\n",
       "    </tr>\n",
       "    <tr>\n",
       "      <th>487</th>\n",
       "      <td>83441</td>\n",
       "      <td>zip</td>\n",
       "      <td>_nan_</td>\n",
       "      <td>60625</td>\n",
       "      <td>_nan_</td>\n",
       "    </tr>\n",
       "    <tr>\n",
       "      <th>488</th>\n",
       "      <td>86172</td>\n",
       "      <td>zip</td>\n",
       "      <td>60610</td>\n",
       "      <td>60654</td>\n",
       "      <td>60610</td>\n",
       "    </tr>\n",
       "    <tr>\n",
       "      <th>489</th>\n",
       "      <td>106753</td>\n",
       "      <td>zip</td>\n",
       "      <td>60609</td>\n",
       "      <td>60608</td>\n",
       "      <td>60609</td>\n",
       "    </tr>\n",
       "    <tr>\n",
       "      <th>490</th>\n",
       "      <td>108757</td>\n",
       "      <td>zip</td>\n",
       "      <td>_nan_</td>\n",
       "      <td>60605</td>\n",
       "      <td>_nan_</td>\n",
       "    </tr>\n",
       "    <tr>\n",
       "      <th>491</th>\n",
       "      <td>113940</td>\n",
       "      <td>zip</td>\n",
       "      <td>_nan_</td>\n",
       "      <td>60640</td>\n",
       "      <td>_nan_</td>\n",
       "    </tr>\n",
       "    <tr>\n",
       "      <th>492</th>\n",
       "      <td>115049</td>\n",
       "      <td>zip</td>\n",
       "      <td>_nan_</td>\n",
       "      <td>60640</td>\n",
       "      <td>_nan_</td>\n",
       "    </tr>\n",
       "    <tr>\n",
       "      <th>493</th>\n",
       "      <td>118355</td>\n",
       "      <td>zip</td>\n",
       "      <td>_nan_</td>\n",
       "      <td>60625</td>\n",
       "      <td>_nan_</td>\n",
       "    </tr>\n",
       "    <tr>\n",
       "      <th>494</th>\n",
       "      <td>119036</td>\n",
       "      <td>zip</td>\n",
       "      <td>_nan_</td>\n",
       "      <td>60625</td>\n",
       "      <td>_nan_</td>\n",
       "    </tr>\n",
       "    <tr>\n",
       "      <th>495</th>\n",
       "      <td>119660</td>\n",
       "      <td>zip</td>\n",
       "      <td>_nan_</td>\n",
       "      <td>60625</td>\n",
       "      <td>_nan_</td>\n",
       "    </tr>\n",
       "    <tr>\n",
       "      <th>496</th>\n",
       "      <td>125265</td>\n",
       "      <td>zip</td>\n",
       "      <td>60618</td>\n",
       "      <td>60608</td>\n",
       "      <td>60618</td>\n",
       "    </tr>\n",
       "    <tr>\n",
       "      <th>497</th>\n",
       "      <td>131542</td>\n",
       "      <td>zip</td>\n",
       "      <td>_nan_</td>\n",
       "      <td>60623</td>\n",
       "      <td>_nan_</td>\n",
       "    </tr>\n",
       "    <tr>\n",
       "      <th>498</th>\n",
       "      <td>132276</td>\n",
       "      <td>zip</td>\n",
       "      <td>60609</td>\n",
       "      <td>60608</td>\n",
       "      <td>60609</td>\n",
       "    </tr>\n",
       "    <tr>\n",
       "      <th>499</th>\n",
       "      <td>133706</td>\n",
       "      <td>zip</td>\n",
       "      <td>_nan_</td>\n",
       "      <td>60623</td>\n",
       "      <td>_nan_</td>\n",
       "    </tr>\n",
       "  </tbody>\n",
       "</table>\n",
       "<p>326 rows × 5 columns</p>\n",
       "</div>"
      ],
      "text/plain": [
       "      _tid_   _attribute_                             init  \\\n",
       "0       152  facilitytype      childrens services facility   \n",
       "1      1090  facilitytype            mobile food dispenser   \n",
       "2      1094  facilitytype            mobile food dispenser   \n",
       "3      1096  facilitytype            mobile food dispenser   \n",
       "4      2275  facilitytype            mobile food dispenser   \n",
       "5      2535  facilitytype                            _nan_   \n",
       "6      3317  facilitytype      childrens services facility   \n",
       "7      3807  facilitytype                            _nan_   \n",
       "8      3922  facilitytype      mobile prepared food vendor   \n",
       "9      4242  facilitytype      childrens services facility   \n",
       "10     4734  facilitytype                            _nan_   \n",
       "11     5184  facilitytype                 northerly island   \n",
       "12     5706  facilitytype            mobile food dispenser   \n",
       "13     6223  facilitytype                 northerly island   \n",
       "14     6468  facilitytype                            _nan_   \n",
       "15     6952  facilitytype            mobile food dispenser   \n",
       "16     8610  facilitytype                       restaurant   \n",
       "17     8798  facilitytype  daycare above and under 2 years   \n",
       "18     8800  facilitytype                       push carts   \n",
       "19    10620  facilitytype                       push carts   \n",
       "20    15873  facilitytype                            _nan_   \n",
       "21    17009  facilitytype                       restaurant   \n",
       "22    24942  facilitytype                            _nan_   \n",
       "23    29359  facilitytype                            _nan_   \n",
       "24    29918  facilitytype                            _nan_   \n",
       "25    30769  facilitytype                            _nan_   \n",
       "26    35835  facilitytype                            _nan_   \n",
       "27    36313  facilitytype                            _nan_   \n",
       "28    37406  facilitytype                            _nan_   \n",
       "29    37511  facilitytype                            _nan_   \n",
       "..      ...           ...                              ...   \n",
       "347   54913       address        3463-3467 n broadway bldg   \n",
       "348   54922       address        3463-3467 n broadway bldg   \n",
       "353   58673       address          4310-4314 s prairie ave   \n",
       "357   61527       address             3313-3317 n broadway   \n",
       "358   61686       address             3313-3317 n broadway   \n",
       "360   61925       address             3313-3317 n broadway   \n",
       "361   62250       address             3313-3317 n broadway   \n",
       "364   67829       address           2301-2303 w foster ave   \n",
       "401   96481       address             3313-3317 n broadway   \n",
       "412  107399       address         2537 -2541 n kedzie blvd   \n",
       "423  116478       address     2150-2158 w belmont ave bldg   \n",
       "437  119979       address         2537 -2541 n kedzie blvd   \n",
       "478   51745       dbaname                         3639 llc   \n",
       "479   64118       dbaname      bismarck enterprises/united   \n",
       "480   66155       dbaname             michoacan restaurant   \n",
       "485   59833           zip                            _nan_   \n",
       "486   63499           zip                            _nan_   \n",
       "487   83441           zip                            _nan_   \n",
       "488   86172           zip                            60610   \n",
       "489  106753           zip                            60609   \n",
       "490  108757           zip                            _nan_   \n",
       "491  113940           zip                            _nan_   \n",
       "492  115049           zip                            _nan_   \n",
       "493  118355           zip                            _nan_   \n",
       "494  119036           zip                            _nan_   \n",
       "495  119660           zip                            _nan_   \n",
       "496  125265           zip                            60618   \n",
       "497  131542           zip                            _nan_   \n",
       "498  132276           zip                            60609   \n",
       "499  133706           zip                            _nan_   \n",
       "\n",
       "                                  gt                           repair  \n",
       "0                             school      childrens services facility  \n",
       "1                         restaurant            mobile food dispenser  \n",
       "2                         restaurant            mobile food dispenser  \n",
       "3                         restaurant            mobile food dispenser  \n",
       "4                         restaurant            mobile food dispenser  \n",
       "5                         restaurant                            _nan_  \n",
       "6                             school      childrens services facility  \n",
       "7                         restaurant                            _nan_  \n",
       "8                             bakery      mobile prepared food vendor  \n",
       "9    daycare above and under 2 years      childrens services facility  \n",
       "10                        restaurant                            _nan_  \n",
       "11                     special event                 northerly island  \n",
       "12                        restaurant            mobile food dispenser  \n",
       "13                     special event                 northerly island  \n",
       "14                        restaurant                            _nan_  \n",
       "15                        restaurant            mobile food dispenser  \n",
       "16             mobile food dispenser                       restaurant  \n",
       "17             daycare (2 - 6 years)  daycare above and under 2 years  \n",
       "18             mobile food dispenser                       push carts  \n",
       "19             mobile food dispenser                       push carts  \n",
       "20                        restaurant                            _nan_  \n",
       "21             mobile food dispenser                       restaurant  \n",
       "22                     grocery store                            _nan_  \n",
       "23                        restaurant                            _nan_  \n",
       "24                        restaurant                            _nan_  \n",
       "25                            liquor                            _nan_  \n",
       "26                        restaurant                            _nan_  \n",
       "27                        restaurant                            _nan_  \n",
       "28                        restaurant                            _nan_  \n",
       "29                        restaurant                            _nan_  \n",
       "..                               ...                              ...  \n",
       "347             3463-3465 n broadway        3463-3467 n broadway bldg  \n",
       "348             3463-3465 n broadway        3463-3467 n broadway bldg  \n",
       "353          4310-4312 s prairie ave          4310-4314 s prairie ave  \n",
       "357             3313-3319 n broadway             3313-3317 n broadway  \n",
       "358             3313-3319 n broadway             3313-3317 n broadway  \n",
       "360             3313-3319 n broadway             3313-3317 n broadway  \n",
       "361             3313-3319 n broadway             3313-3317 n broadway  \n",
       "364             2301-03 w foster ave           2301-2303 w foster ave  \n",
       "401             3313-3319 n broadway             3313-3317 n broadway  \n",
       "412           2537-2543 n kedzie ave         2537 -2541 n kedzie blvd  \n",
       "423       2150-58 w belmont ave bldg     2150-2158 w belmont ave bldg  \n",
       "437           2537-2543 n kedzie ave         2537 -2541 n kedzie blvd  \n",
       "478            wrigleyville rooftops                         3639 llc  \n",
       "479                the united center      bismarck enterprises/united  \n",
       "480               jalisco restaurant             michoacan restaurant  \n",
       "485                            60616                            _nan_  \n",
       "486                            60605                            _nan_  \n",
       "487                            60625                            _nan_  \n",
       "488                            60654                            60610  \n",
       "489                            60608                            60609  \n",
       "490                            60605                            _nan_  \n",
       "491                            60640                            _nan_  \n",
       "492                            60640                            _nan_  \n",
       "493                            60625                            _nan_  \n",
       "494                            60625                            _nan_  \n",
       "495                            60625                            _nan_  \n",
       "496                            60608                            60618  \n",
       "497                            60623                            _nan_  \n",
       "498                            60608                            60609  \n",
       "499                            60623                            _nan_  \n",
       "\n",
       "[326 rows x 5 columns]"
      ]
     },
     "execution_count": 44,
     "metadata": {},
     "output_type": "execute_result"
    }
   ],
   "source": [
    "nonstrict"
   ]
  },
  {
   "cell_type": "code",
   "execution_count": 45,
   "metadata": {},
   "outputs": [],
   "source": [
    "nonstrict_equal = nonstrict[[contains(t[1]['gt'], t[1]['repair']) for t in nonstrict.iterrows()]]"
   ]
  },
  {
   "cell_type": "code",
   "execution_count": 46,
   "metadata": {},
   "outputs": [
    {
     "data": {
      "text/plain": [
       "0"
      ]
     },
     "execution_count": 46,
     "metadata": {},
     "output_type": "execute_result"
    }
   ],
   "source": [
    "nonstrict_count = nonstrict_equal.shape[0]\n",
    "nonstrict_count"
   ]
  },
  {
   "cell_type": "code",
   "execution_count": 47,
   "metadata": {},
   "outputs": [
    {
     "data": {
      "text/plain": [
       "17"
      ]
     },
     "execution_count": 47,
     "metadata": {},
     "output_type": "execute_result"
    }
   ],
   "source": [
    "correct_repair_count = strict_equal_count + nonstrict_count\n",
    "correct_repair_count"
   ]
  },
  {
   "cell_type": "markdown",
   "metadata": {},
   "source": [
    "### Detected Errors"
   ]
  },
  {
   "cell_type": "code",
   "execution_count": 48,
   "metadata": {},
   "outputs": [],
   "source": [
    "query = \"SELECT t1._tid_, t1.init_value as init, t2._value_ as gt \" \\\n",
    "        \"FROM %s as t1, %s as t2, %s as t3 \" \\\n",
    "        \"WHERE t1._tid_ = t2._tid_ AND t1._cid_ = t3._cid_ \" \\\n",
    "        \"AND t1.attribute = t2._attribute_ \" \\\n",
    "        \"AND t1.init_value != t2._value_\" \\\n",
    "        % ('cell_domain', 'food_clean', 'dk_cells')"
   ]
  },
  {
   "cell_type": "code",
   "execution_count": 49,
   "metadata": {},
   "outputs": [],
   "source": [
    "init_error = query_df(query)"
   ]
  },
  {
   "cell_type": "code",
   "execution_count": 50,
   "metadata": {},
   "outputs": [
    {
     "data": {
      "text/plain": [
       "508"
      ]
     },
     "execution_count": 50,
     "metadata": {},
     "output_type": "execute_result"
    }
   ],
   "source": [
    "init_error.shape[0]"
   ]
  },
  {
   "cell_type": "code",
   "execution_count": 51,
   "metadata": {},
   "outputs": [],
   "source": [
    "# remove false error\n",
    "true_error = init_error[~init_error['_tid_'].isin(false_error_tid)]"
   ]
  },
  {
   "cell_type": "code",
   "execution_count": 52,
   "metadata": {},
   "outputs": [
    {
     "data": {
      "text/plain": [
       "351"
      ]
     },
     "execution_count": 52,
     "metadata": {},
     "output_type": "execute_result"
    }
   ],
   "source": [
    "true_error.shape[0]"
   ]
  },
  {
   "cell_type": "code",
   "execution_count": 53,
   "metadata": {},
   "outputs": [],
   "source": [
    "true_detected_error = true_error.shape[0]"
   ]
  },
  {
   "cell_type": "markdown",
   "metadata": {},
   "source": [
    "### Compute Statistics"
   ]
  },
  {
   "cell_type": "code",
   "execution_count": 54,
   "metadata": {},
   "outputs": [],
   "source": [
    "precision = float(correct_repair_count) / true_repair_gt_count"
   ]
  },
  {
   "cell_type": "code",
   "execution_count": 55,
   "metadata": {},
   "outputs": [
    {
     "data": {
      "text/plain": [
       "0.8947368421052632"
      ]
     },
     "execution_count": 55,
     "metadata": {},
     "output_type": "execute_result"
    }
   ],
   "source": [
    "precision"
   ]
  },
  {
   "cell_type": "code",
   "execution_count": 56,
   "metadata": {},
   "outputs": [
    {
     "data": {
      "text/plain": [
       "0.04197530864197531"
      ]
     },
     "execution_count": 56,
     "metadata": {},
     "output_type": "execute_result"
    }
   ],
   "source": [
    "recall = float(correct_repair_count) / true_error_count\n",
    "recall"
   ]
  },
  {
   "cell_type": "code",
   "execution_count": 57,
   "metadata": {},
   "outputs": [
    {
     "data": {
      "text/plain": [
       "0.04843304843304843"
      ]
     },
     "execution_count": 57,
     "metadata": {},
     "output_type": "execute_result"
    }
   ],
   "source": [
    "repairing_recall = float(correct_repair_count) / true_detected_error\n",
    "repairing_recall"
   ]
  },
  {
   "cell_type": "code",
   "execution_count": 58,
   "metadata": {},
   "outputs": [
    {
     "data": {
      "text/plain": [
       "0.08018867924528301"
      ]
     },
     "execution_count": 58,
     "metadata": {},
     "output_type": "execute_result"
    }
   ],
   "source": [
    "f1 = 2*(precision*recall)/(precision+recall)\n",
    "f1"
   ]
  },
  {
   "cell_type": "code",
   "execution_count": 59,
   "metadata": {},
   "outputs": [
    {
     "data": {
      "text/plain": [
       "0.09189189189189188"
      ]
     },
     "execution_count": 59,
     "metadata": {},
     "output_type": "execute_result"
    }
   ],
   "source": [
    "repairing_f1 = 2*(precision*repairing_recall)/(precision+repairing_recall)\n",
    "repairing_f1"
   ]
  },
  {
   "cell_type": "markdown",
   "metadata": {},
   "source": [
    "### Read Configuration from Old Evaluation"
   ]
  },
  {
   "cell_type": "code",
   "execution_count": 60,
   "metadata": {},
   "outputs": [],
   "source": [
    "ev = pd.read_csv(\"/fastdisk/Evaluation_Results/hc_eval_food_GL.csv\")"
   ]
  },
  {
   "cell_type": "code",
   "execution_count": 61,
   "metadata": {},
   "outputs": [
    {
     "data": {
      "text/html": [
       "<div>\n",
       "<style scoped>\n",
       "    .dataframe tbody tr th:only-of-type {\n",
       "        vertical-align: middle;\n",
       "    }\n",
       "\n",
       "    .dataframe tbody tr th {\n",
       "        vertical-align: top;\n",
       "    }\n",
       "\n",
       "    .dataframe thead th {\n",
       "        text-align: right;\n",
       "    }\n",
       "</style>\n",
       "<table border=\"1\" class=\"dataframe\">\n",
       "  <thead>\n",
       "    <tr style=\"text-align: right;\">\n",
       "      <th></th>\n",
       "      <th>data</th>\n",
       "      <th>dc</th>\n",
       "      <th>prunning_k</th>\n",
       "      <th>weight_decay</th>\n",
       "      <th>normalize</th>\n",
       "      <th>bias</th>\n",
       "      <th>featurizer</th>\n",
       "      <th>notes</th>\n",
       "      <th>precision</th>\n",
       "      <th>recall</th>\n",
       "      <th>repairing_recall</th>\n",
       "      <th>F1</th>\n",
       "      <th>repairing_F1</th>\n",
       "      <th>detected_errors</th>\n",
       "      <th>total_errors</th>\n",
       "      <th>correct_repairs</th>\n",
       "      <th>total_repairs</th>\n",
       "      <th>total_repairs(Grdth_present)</th>\n",
       "      <th>runtime</th>\n",
       "      <th>location</th>\n",
       "    </tr>\n",
       "  </thead>\n",
       "  <tbody>\n",
       "    <tr>\n",
       "      <th>6</th>\n",
       "      <td>food</td>\n",
       "      <td>1113194633_food_GLD_cov_alpha0dot01_topk_3_s40...</td>\n",
       "      <td>0.1</td>\n",
       "      <td>0.01</td>\n",
       "      <td>False</td>\n",
       "      <td>False</td>\n",
       "      <td>initsim-constraint-initattr-freq-occur</td>\n",
       "      <td>7</td>\n",
       "      <td>0.9</td>\n",
       "      <td>0.0291</td>\n",
       "      <td>0.0354</td>\n",
       "      <td>0.0563</td>\n",
       "      <td>0.0682</td>\n",
       "      <td>508.0</td>\n",
       "      <td>619.0</td>\n",
       "      <td>18.0</td>\n",
       "      <td>65.0</td>\n",
       "      <td>20.0</td>\n",
       "      <td>9756.543961</td>\n",
       "      <td>/fastdisk/ProfilerData/food/GL/GLD/sparsity_0....</td>\n",
       "    </tr>\n",
       "  </tbody>\n",
       "</table>\n",
       "</div>"
      ],
      "text/plain": [
       "   data                                                 dc  prunning_k  \\\n",
       "6  food  1113194633_food_GLD_cov_alpha0dot01_topk_3_s40...         0.1   \n",
       "\n",
       "   weight_decay  normalize   bias                              featurizer  \\\n",
       "6          0.01      False  False  initsim-constraint-initattr-freq-occur   \n",
       "\n",
       "   notes  precision  recall  repairing_recall      F1  repairing_F1  \\\n",
       "6      7        0.9  0.0291            0.0354  0.0563        0.0682   \n",
       "\n",
       "   detected_errors  total_errors  correct_repairs  total_repairs  \\\n",
       "6            508.0         619.0             18.0           65.0   \n",
       "\n",
       "   total_repairs(Grdth_present)      runtime  \\\n",
       "6                          20.0  9756.543961   \n",
       "\n",
       "                                            location  \n",
       "6  /fastdisk/ProfilerData/food/GL/GLD/sparsity_0....  "
      ]
     },
     "execution_count": 61,
     "metadata": {},
     "output_type": "execute_result"
    }
   ],
   "source": [
    "config = ev[ev['notes'] == index]\n",
    "config"
   ]
  },
  {
   "cell_type": "code",
   "execution_count": 62,
   "metadata": {},
   "outputs": [
    {
     "data": {
      "text/plain": [
       "20"
      ]
     },
     "execution_count": 62,
     "metadata": {},
     "output_type": "execute_result"
    }
   ],
   "source": [
    "config.shape[1]"
   ]
  },
  {
   "cell_type": "code",
   "execution_count": 63,
   "metadata": {},
   "outputs": [
    {
     "data": {
      "text/plain": [
       "'food,1113194633_food_GLD_cov_alpha0dot01_topk_3_s400_k8_b001_multiple_topdown_knn10_euclidean_dc.txt,0.1,0.01,False,False,initsim-constraint-initattr-freq-occur,7'"
      ]
     },
     "execution_count": 63,
     "metadata": {},
     "output_type": "execute_result"
    }
   ],
   "source": [
    "first_half = config.iloc[:,0:8].values[0]\n",
    "former = ','.join(map(str, first_half))\n",
    "former"
   ]
  },
  {
   "cell_type": "code",
   "execution_count": 64,
   "metadata": {},
   "outputs": [
    {
     "data": {
      "text/plain": [
       "'9756.54396081,/fastdisk/ProfilerData/food/GL/GLD/sparsity_0.01/decomposition/knn/multiple_topdown'"
      ]
     },
     "execution_count": 64,
     "metadata": {},
     "output_type": "execute_result"
    }
   ],
   "source": [
    "second_half = config.iloc[:,18:].values[0]\n",
    "latter = ','.join(map(str, second_half))\n",
    "latter"
   ]
  },
  {
   "cell_type": "code",
   "execution_count": 65,
   "metadata": {},
   "outputs": [
    {
     "data": {
      "text/plain": [
       "array(['data', 'dc', 'prunning_k', 'weight_decay', 'normalize', 'bias',\n",
       "       'featurizer', 'notes', 'precision', 'recall', 'repairing_recall',\n",
       "       'F1', 'repairing_F1', 'detected_errors', 'total_errors',\n",
       "       'correct_repairs', 'total_repairs', 'total_repairs(Grdth_present)',\n",
       "       'runtime', 'location'], dtype=object)"
      ]
     },
     "execution_count": 65,
     "metadata": {},
     "output_type": "execute_result"
    }
   ],
   "source": [
    "ev.columns.values"
   ]
  },
  {
   "cell_type": "markdown",
   "metadata": {},
   "source": [
    "### Output Results"
   ]
  },
  {
   "cell_type": "code",
   "execution_count": 66,
   "metadata": {},
   "outputs": [],
   "source": [
    "out = open(\"/fastdisk/Evaluation_Results/food-true-evaluation.csv\", \"a+\")"
   ]
  },
  {
   "cell_type": "code",
   "execution_count": 67,
   "metadata": {},
   "outputs": [],
   "source": [
    "meat = [\"%.4f\"%precision, \"%.4f\"%recall, \"%.4f\"%repairing_recall,\n",
    "        \"%.4f\"%f1, \"%.4f\"%repairing_f1,\n",
    "        str(true_detected_error),str(true_error_count),\n",
    "        str(correct_repair_count),str(true_total_repair_count),\n",
    "        str(true_repair_gt_count)]"
   ]
  },
  {
   "cell_type": "code",
   "execution_count": 68,
   "metadata": {},
   "outputs": [
    {
     "data": {
      "text/plain": [
       "'0.8947,0.0420,0.0484,0.0802,0.0919,351,405,17,57,19'"
      ]
     },
     "execution_count": 68,
     "metadata": {},
     "output_type": "execute_result"
    }
   ],
   "source": [
    "\",\".join(meat)"
   ]
  },
  {
   "cell_type": "code",
   "execution_count": 69,
   "metadata": {},
   "outputs": [],
   "source": [
    "out.write(\"{},{},{}\\n\".format(former, \",\".join(meat),latter))"
   ]
  },
  {
   "cell_type": "code",
   "execution_count": 70,
   "metadata": {},
   "outputs": [],
   "source": [
    "out.close()"
   ]
  },
  {
   "cell_type": "code",
   "execution_count": null,
   "metadata": {},
   "outputs": [],
   "source": []
  }
 ],
 "metadata": {
  "kernelspec": {
   "display_name": "Python 2",
   "language": "python",
   "name": "python2"
  },
  "language_info": {
   "codemirror_mode": {
    "name": "ipython",
    "version": 2
   },
   "file_extension": ".py",
   "mimetype": "text/x-python",
   "name": "python",
   "nbconvert_exporter": "python",
   "pygments_lexer": "ipython2",
   "version": "2.7.15"
  }
 },
 "nbformat": 4,
 "nbformat_minor": 2
}
